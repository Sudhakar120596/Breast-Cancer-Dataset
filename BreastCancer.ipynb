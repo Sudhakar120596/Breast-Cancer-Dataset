{
  "nbformat": 4,
  "nbformat_minor": 0,
  "metadata": {
    "colab": {
      "name": "BreastCancer.ipynb",
      "provenance": [],
      "collapsed_sections": []
    },
    "kernelspec": {
      "name": "python3",
      "display_name": "Python 3"
    }
  },
  "cells": [
    {
      "cell_type": "code",
      "metadata": {
        "id": "i69zNib-QxXb",
        "colab_type": "code",
        "outputId": "bcae9a65-5474-40ba-8cb0-f03fd8ce93d3",
        "colab": {
          "base_uri": "https://localhost:8080/",
          "height": 71
        }
      },
      "source": [
        "import numpy as np\n",
        "import pandas as pd\n",
        "import matplotlib.pyplot as plt\n",
        "import seaborn as sns\n",
        "%matplotlib inline\n",
        "import warnings\n",
        "warnings.filterwarnings('ignore')"
      ],
      "execution_count": 1,
      "outputs": [
        {
          "output_type": "stream",
          "text": [
            "/usr/local/lib/python3.6/dist-packages/statsmodels/tools/_testing.py:19: FutureWarning: pandas.util.testing is deprecated. Use the functions in the public API at pandas.testing instead.\n",
            "  import pandas.util.testing as tm\n"
          ],
          "name": "stderr"
        }
      ]
    },
    {
      "cell_type": "code",
      "metadata": {
        "id": "qyXs7bhGQ0HX",
        "colab_type": "code",
        "outputId": "00e29763-5d13-4967-dcd1-b011a880669b",
        "colab": {
          "resources": {
            "http://localhost:8080/nbextensions/google.colab/files.js": {
              "data": "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",
              "ok": true,
              "headers": [
                [
                  "content-type",
                  "application/javascript"
                ]
              ],
              "status": 200,
              "status_text": ""
            }
          },
          "base_uri": "https://localhost:8080/",
          "height": 74
        }
      },
      "source": [
        "from google.colab import files\n",
        "uploaded = files.upload()"
      ],
      "execution_count": 2,
      "outputs": [
        {
          "output_type": "display_data",
          "data": {
            "text/html": [
              "\n",
              "     <input type=\"file\" id=\"files-0db315d0-8a7f-4e91-a7a9-a158b846109b\" name=\"files[]\" multiple disabled />\n",
              "     <output id=\"result-0db315d0-8a7f-4e91-a7a9-a158b846109b\">\n",
              "      Upload widget is only available when the cell has been executed in the\n",
              "      current browser session. Please rerun this cell to enable.\n",
              "      </output>\n",
              "      <script src=\"/nbextensions/google.colab/files.js\"></script> "
            ],
            "text/plain": [
              "<IPython.core.display.HTML object>"
            ]
          },
          "metadata": {
            "tags": []
          }
        },
        {
          "output_type": "stream",
          "text": [
            "Saving cancer dataset.csv to cancer dataset.csv\n"
          ],
          "name": "stdout"
        }
      ]
    },
    {
      "cell_type": "code",
      "metadata": {
        "id": "f8dxlj9WQ9kB",
        "colab_type": "code",
        "outputId": "7c7b079a-be68-4c55-9855-d3bf8f214185",
        "colab": {
          "base_uri": "https://localhost:8080/",
          "height": 241
        }
      },
      "source": [
        "can_data = pd.read_csv('cancer dataset.csv')\n",
        "can_data.head()"
      ],
      "execution_count": 3,
      "outputs": [
        {
          "output_type": "execute_result",
          "data": {
            "text/html": [
              "<div>\n",
              "<style scoped>\n",
              "    .dataframe tbody tr th:only-of-type {\n",
              "        vertical-align: middle;\n",
              "    }\n",
              "\n",
              "    .dataframe tbody tr th {\n",
              "        vertical-align: top;\n",
              "    }\n",
              "\n",
              "    .dataframe thead th {\n",
              "        text-align: right;\n",
              "    }\n",
              "</style>\n",
              "<table border=\"1\" class=\"dataframe\">\n",
              "  <thead>\n",
              "    <tr style=\"text-align: right;\">\n",
              "      <th></th>\n",
              "      <th>id</th>\n",
              "      <th>diagnosis</th>\n",
              "      <th>radius_mean</th>\n",
              "      <th>texture_mean</th>\n",
              "      <th>perimeter_mean</th>\n",
              "      <th>area_mean</th>\n",
              "      <th>smoothness_mean</th>\n",
              "      <th>compactness_mean</th>\n",
              "      <th>concavity_mean</th>\n",
              "      <th>concave points_mean</th>\n",
              "      <th>symmetry_mean</th>\n",
              "      <th>fractal_dimension_mean</th>\n",
              "      <th>radius_se</th>\n",
              "      <th>texture_se</th>\n",
              "      <th>perimeter_se</th>\n",
              "      <th>area_se</th>\n",
              "      <th>smoothness_se</th>\n",
              "      <th>compactness_se</th>\n",
              "      <th>concavity_se</th>\n",
              "      <th>concave points_se</th>\n",
              "      <th>symmetry_se</th>\n",
              "      <th>fractal_dimension_se</th>\n",
              "      <th>radius_worst</th>\n",
              "      <th>texture_worst</th>\n",
              "      <th>perimeter_worst</th>\n",
              "      <th>area_worst</th>\n",
              "      <th>smoothness_worst</th>\n",
              "      <th>compactness_worst</th>\n",
              "      <th>concavity_worst</th>\n",
              "      <th>concave points_worst</th>\n",
              "      <th>symmetry_worst</th>\n",
              "      <th>fractal_dimension_worst</th>\n",
              "    </tr>\n",
              "  </thead>\n",
              "  <tbody>\n",
              "    <tr>\n",
              "      <th>0</th>\n",
              "      <td>842302</td>\n",
              "      <td>M</td>\n",
              "      <td>17.99</td>\n",
              "      <td>10.38</td>\n",
              "      <td>122.80</td>\n",
              "      <td>1001.0</td>\n",
              "      <td>0.11840</td>\n",
              "      <td>0.27760</td>\n",
              "      <td>0.3001</td>\n",
              "      <td>0.14710</td>\n",
              "      <td>0.2419</td>\n",
              "      <td>0.07871</td>\n",
              "      <td>1.0950</td>\n",
              "      <td>0.9053</td>\n",
              "      <td>8.589</td>\n",
              "      <td>153.40</td>\n",
              "      <td>0.006399</td>\n",
              "      <td>0.04904</td>\n",
              "      <td>0.05373</td>\n",
              "      <td>0.01587</td>\n",
              "      <td>0.03003</td>\n",
              "      <td>0.006193</td>\n",
              "      <td>25.38</td>\n",
              "      <td>17.33</td>\n",
              "      <td>184.60</td>\n",
              "      <td>2019.0</td>\n",
              "      <td>0.1622</td>\n",
              "      <td>0.6656</td>\n",
              "      <td>0.7119</td>\n",
              "      <td>0.2654</td>\n",
              "      <td>0.4601</td>\n",
              "      <td>0.11890</td>\n",
              "    </tr>\n",
              "    <tr>\n",
              "      <th>1</th>\n",
              "      <td>842517</td>\n",
              "      <td>M</td>\n",
              "      <td>20.57</td>\n",
              "      <td>17.77</td>\n",
              "      <td>132.90</td>\n",
              "      <td>1326.0</td>\n",
              "      <td>0.08474</td>\n",
              "      <td>0.07864</td>\n",
              "      <td>0.0869</td>\n",
              "      <td>0.07017</td>\n",
              "      <td>0.1812</td>\n",
              "      <td>0.05667</td>\n",
              "      <td>0.5435</td>\n",
              "      <td>0.7339</td>\n",
              "      <td>3.398</td>\n",
              "      <td>74.08</td>\n",
              "      <td>0.005225</td>\n",
              "      <td>0.01308</td>\n",
              "      <td>0.01860</td>\n",
              "      <td>0.01340</td>\n",
              "      <td>0.01389</td>\n",
              "      <td>0.003532</td>\n",
              "      <td>24.99</td>\n",
              "      <td>23.41</td>\n",
              "      <td>158.80</td>\n",
              "      <td>1956.0</td>\n",
              "      <td>0.1238</td>\n",
              "      <td>0.1866</td>\n",
              "      <td>0.2416</td>\n",
              "      <td>0.1860</td>\n",
              "      <td>0.2750</td>\n",
              "      <td>0.08902</td>\n",
              "    </tr>\n",
              "    <tr>\n",
              "      <th>2</th>\n",
              "      <td>84300903</td>\n",
              "      <td>M</td>\n",
              "      <td>19.69</td>\n",
              "      <td>21.25</td>\n",
              "      <td>130.00</td>\n",
              "      <td>1203.0</td>\n",
              "      <td>0.10960</td>\n",
              "      <td>0.15990</td>\n",
              "      <td>0.1974</td>\n",
              "      <td>0.12790</td>\n",
              "      <td>0.2069</td>\n",
              "      <td>0.05999</td>\n",
              "      <td>0.7456</td>\n",
              "      <td>0.7869</td>\n",
              "      <td>4.585</td>\n",
              "      <td>94.03</td>\n",
              "      <td>0.006150</td>\n",
              "      <td>0.04006</td>\n",
              "      <td>0.03832</td>\n",
              "      <td>0.02058</td>\n",
              "      <td>0.02250</td>\n",
              "      <td>0.004571</td>\n",
              "      <td>23.57</td>\n",
              "      <td>25.53</td>\n",
              "      <td>152.50</td>\n",
              "      <td>1709.0</td>\n",
              "      <td>0.1444</td>\n",
              "      <td>0.4245</td>\n",
              "      <td>0.4504</td>\n",
              "      <td>0.2430</td>\n",
              "      <td>0.3613</td>\n",
              "      <td>0.08758</td>\n",
              "    </tr>\n",
              "    <tr>\n",
              "      <th>3</th>\n",
              "      <td>84348301</td>\n",
              "      <td>M</td>\n",
              "      <td>11.42</td>\n",
              "      <td>20.38</td>\n",
              "      <td>77.58</td>\n",
              "      <td>386.1</td>\n",
              "      <td>0.14250</td>\n",
              "      <td>0.28390</td>\n",
              "      <td>0.2414</td>\n",
              "      <td>0.10520</td>\n",
              "      <td>0.2597</td>\n",
              "      <td>0.09744</td>\n",
              "      <td>0.4956</td>\n",
              "      <td>1.1560</td>\n",
              "      <td>3.445</td>\n",
              "      <td>27.23</td>\n",
              "      <td>0.009110</td>\n",
              "      <td>0.07458</td>\n",
              "      <td>0.05661</td>\n",
              "      <td>0.01867</td>\n",
              "      <td>0.05963</td>\n",
              "      <td>0.009208</td>\n",
              "      <td>14.91</td>\n",
              "      <td>26.50</td>\n",
              "      <td>98.87</td>\n",
              "      <td>567.7</td>\n",
              "      <td>0.2098</td>\n",
              "      <td>0.8663</td>\n",
              "      <td>0.6869</td>\n",
              "      <td>0.2575</td>\n",
              "      <td>0.6638</td>\n",
              "      <td>0.17300</td>\n",
              "    </tr>\n",
              "    <tr>\n",
              "      <th>4</th>\n",
              "      <td>84358402</td>\n",
              "      <td>M</td>\n",
              "      <td>20.29</td>\n",
              "      <td>14.34</td>\n",
              "      <td>135.10</td>\n",
              "      <td>1297.0</td>\n",
              "      <td>0.10030</td>\n",
              "      <td>0.13280</td>\n",
              "      <td>0.1980</td>\n",
              "      <td>0.10430</td>\n",
              "      <td>0.1809</td>\n",
              "      <td>0.05883</td>\n",
              "      <td>0.7572</td>\n",
              "      <td>0.7813</td>\n",
              "      <td>5.438</td>\n",
              "      <td>94.44</td>\n",
              "      <td>0.011490</td>\n",
              "      <td>0.02461</td>\n",
              "      <td>0.05688</td>\n",
              "      <td>0.01885</td>\n",
              "      <td>0.01756</td>\n",
              "      <td>0.005115</td>\n",
              "      <td>22.54</td>\n",
              "      <td>16.67</td>\n",
              "      <td>152.20</td>\n",
              "      <td>1575.0</td>\n",
              "      <td>0.1374</td>\n",
              "      <td>0.2050</td>\n",
              "      <td>0.4000</td>\n",
              "      <td>0.1625</td>\n",
              "      <td>0.2364</td>\n",
              "      <td>0.07678</td>\n",
              "    </tr>\n",
              "  </tbody>\n",
              "</table>\n",
              "</div>"
            ],
            "text/plain": [
              "         id diagnosis  ...  symmetry_worst  fractal_dimension_worst\n",
              "0    842302         M  ...          0.4601                  0.11890\n",
              "1    842517         M  ...          0.2750                  0.08902\n",
              "2  84300903         M  ...          0.3613                  0.08758\n",
              "3  84348301         M  ...          0.6638                  0.17300\n",
              "4  84358402         M  ...          0.2364                  0.07678\n",
              "\n",
              "[5 rows x 32 columns]"
            ]
          },
          "metadata": {
            "tags": []
          },
          "execution_count": 3
        }
      ]
    },
    {
      "cell_type": "code",
      "metadata": {
        "id": "N9Aliq0G_GEa",
        "colab_type": "code",
        "outputId": "fde8acba-34c1-43fb-ee30-fcd170b132fd",
        "colab": {
          "base_uri": "https://localhost:8080/",
          "height": 34
        }
      },
      "source": [
        "can_data['diagnosis'].unique()"
      ],
      "execution_count": 4,
      "outputs": [
        {
          "output_type": "execute_result",
          "data": {
            "text/plain": [
              "array(['M', 'B'], dtype=object)"
            ]
          },
          "metadata": {
            "tags": []
          },
          "execution_count": 4
        }
      ]
    },
    {
      "cell_type": "code",
      "metadata": {
        "id": "icMo4GS1mJ1Z",
        "colab_type": "code",
        "colab": {
          "base_uri": "https://localhost:8080/",
          "height": 255
        },
        "outputId": "6fa77380-3c4b-4714-af6b-0d24a8fa97dc"
      },
      "source": [
        "y = pd.get_dummies(can_data['diagnosis'], drop_first = True)\n",
        "y.head"
      ],
      "execution_count": 5,
      "outputs": [
        {
          "output_type": "execute_result",
          "data": {
            "text/plain": [
              "<bound method NDFrame.head of      M\n",
              "0    1\n",
              "1    1\n",
              "2    1\n",
              "3    1\n",
              "4    1\n",
              "..  ..\n",
              "564  1\n",
              "565  1\n",
              "566  1\n",
              "567  1\n",
              "568  0\n",
              "\n",
              "[569 rows x 1 columns]>"
            ]
          },
          "metadata": {
            "tags": []
          },
          "execution_count": 5
        }
      ]
    },
    {
      "cell_type": "code",
      "metadata": {
        "id": "FhJ8BvwQ_GaP",
        "colab_type": "code",
        "outputId": "7fdc4afa-8e8c-4d67-e020-447f0f0a745a",
        "colab": {
          "base_uri": "https://localhost:8080/",
          "height": 204
        }
      },
      "source": [
        "radius = can_data.iloc[: , [2,12,22]]\n",
        "radius.head()"
      ],
      "execution_count": 6,
      "outputs": [
        {
          "output_type": "execute_result",
          "data": {
            "text/html": [
              "<div>\n",
              "<style scoped>\n",
              "    .dataframe tbody tr th:only-of-type {\n",
              "        vertical-align: middle;\n",
              "    }\n",
              "\n",
              "    .dataframe tbody tr th {\n",
              "        vertical-align: top;\n",
              "    }\n",
              "\n",
              "    .dataframe thead th {\n",
              "        text-align: right;\n",
              "    }\n",
              "</style>\n",
              "<table border=\"1\" class=\"dataframe\">\n",
              "  <thead>\n",
              "    <tr style=\"text-align: right;\">\n",
              "      <th></th>\n",
              "      <th>radius_mean</th>\n",
              "      <th>radius_se</th>\n",
              "      <th>radius_worst</th>\n",
              "    </tr>\n",
              "  </thead>\n",
              "  <tbody>\n",
              "    <tr>\n",
              "      <th>0</th>\n",
              "      <td>17.99</td>\n",
              "      <td>1.0950</td>\n",
              "      <td>25.38</td>\n",
              "    </tr>\n",
              "    <tr>\n",
              "      <th>1</th>\n",
              "      <td>20.57</td>\n",
              "      <td>0.5435</td>\n",
              "      <td>24.99</td>\n",
              "    </tr>\n",
              "    <tr>\n",
              "      <th>2</th>\n",
              "      <td>19.69</td>\n",
              "      <td>0.7456</td>\n",
              "      <td>23.57</td>\n",
              "    </tr>\n",
              "    <tr>\n",
              "      <th>3</th>\n",
              "      <td>11.42</td>\n",
              "      <td>0.4956</td>\n",
              "      <td>14.91</td>\n",
              "    </tr>\n",
              "    <tr>\n",
              "      <th>4</th>\n",
              "      <td>20.29</td>\n",
              "      <td>0.7572</td>\n",
              "      <td>22.54</td>\n",
              "    </tr>\n",
              "  </tbody>\n",
              "</table>\n",
              "</div>"
            ],
            "text/plain": [
              "   radius_mean  radius_se  radius_worst\n",
              "0        17.99     1.0950         25.38\n",
              "1        20.57     0.5435         24.99\n",
              "2        19.69     0.7456         23.57\n",
              "3        11.42     0.4956         14.91\n",
              "4        20.29     0.7572         22.54"
            ]
          },
          "metadata": {
            "tags": []
          },
          "execution_count": 6
        }
      ]
    },
    {
      "cell_type": "code",
      "metadata": {
        "id": "sKbRjCg5DW7E",
        "colab_type": "code",
        "outputId": "ea342dae-e588-4d64-c43d-817a6db3f94a",
        "colab": {
          "base_uri": "https://localhost:8080/",
          "height": 238
        }
      },
      "source": [
        "print('Max radius_mean: ', radius['radius_mean'].max())\n",
        "print('Min radius_mean: ', radius['radius_mean'].min())\n",
        "print('Null Values in radius_mean: ', radius['radius_mean'].isnull().any())\n",
        "print('\\n')\n",
        "print('Max radius_se: ', radius['radius_se'].max())\n",
        "print('Min radius_se: ', radius['radius_se'].min())\n",
        "print('Null Values in radius_se: ', radius['radius_se'].isnull().any())\n",
        "print('\\n')\n",
        "print('Max radius_worst: ', radius['radius_worst'].max())\n",
        "print('Min radius_worst: ', radius['radius_worst'].min())\n",
        "print('Null Values in radius_worst: ', radius['radius_worst'].isnull().any())"
      ],
      "execution_count": 7,
      "outputs": [
        {
          "output_type": "stream",
          "text": [
            "Max radius_mean:  28.11\n",
            "Min radius_mean:  6.981\n",
            "Null Values in radius_mean:  False\n",
            "\n",
            "\n",
            "Max radius_se:  2.873\n",
            "Min radius_se:  0.1115\n",
            "Null Values in radius_se:  False\n",
            "\n",
            "\n",
            "Max radius_worst:  36.04\n",
            "Min radius_worst:  7.93\n",
            "Null Values in radius_worst:  False\n"
          ],
          "name": "stdout"
        }
      ]
    },
    {
      "cell_type": "code",
      "metadata": {
        "id": "unMf9dXZDW3C",
        "colab_type": "code",
        "outputId": "c9bf3b26-2cf8-4af5-a48c-7ea453b710f4",
        "colab": {
          "base_uri": "https://localhost:8080/",
          "height": 391
        }
      },
      "source": [
        "# Quartiles\n",
        "print('Quantiles for Radius_mean')\n",
        "print('1º Quartile: ', radius['radius_mean'].quantile(q = 0.25))\n",
        "print('2º Quartile: ', radius['radius_mean'].quantile(q = 0.50))\n",
        "print('3º Quartile: ', radius['radius_mean'].quantile(q = 0.75))\n",
        "print('4º Quartile: ', radius['radius_mean'].quantile(q = 1.00))\n",
        "#Calculate the outliers:\n",
        "  # Interquartile range, IQR = Q3 - Q1\n",
        "  # lower 1.5*IQR whisker = Q1 - 1.5 * IQR \n",
        "  # Upper 1.5*IQR whisker = Q3 + 1.5 * IQR\n",
        "    \n",
        "print('Above: ', radius['radius_mean'].quantile(q = 0.75) + \n",
        "                      1.5*(radius['radius_mean'].quantile(q = 0.75) - radius['radius_mean'].quantile(q = 0.25)), 'are outliers')\n",
        "print('\\n')\n",
        "print('Quantiles for Radius_se')\n",
        "print('1º Quartile: ', radius['radius_se'].quantile(q = 0.25))\n",
        "print('2º Quartile: ', radius['radius_se'].quantile(q = 0.50))\n",
        "print('3º Quartile: ', radius['radius_se'].quantile(q = 0.75))\n",
        "print('4º Quartile: ', radius['radius_se'].quantile(q = 1.00))\n",
        "#Calculate the outliers:\n",
        "  # Interquartile range, IQR = Q3 - Q1\n",
        "  # lower 1.5*IQR whisker = Q1 - 1.5 * IQR \n",
        "  # Upper 1.5*IQR whisker = Q3 + 1.5 * IQR\n",
        "    \n",
        "print('Above: ', radius['radius_se'].quantile(q = 0.75) + \n",
        "                      1.5*(radius['radius_se'].quantile(q = 0.75) - radius['radius_se'].quantile(q = 0.25)), 'are outliers')\n",
        "print('\\n')\n",
        "print('Quantiles for Radius_worst')\n",
        "print('1º Quartile: ', radius['radius_worst'].quantile(q = 0.25))\n",
        "print('2º Quartile: ', radius['radius_worst'].quantile(q = 0.50))\n",
        "print('3º Quartile: ', radius['radius_worst'].quantile(q = 0.75))\n",
        "print('4º Quartile: ', radius['radius_worst'].quantile(q = 1.00))\n",
        "#Calculate the outliers:\n",
        "  # Interquartile range, IQR = Q3 - Q1\n",
        "  # lower 1.5*IQR whisker = Q1 - 1.5 * IQR \n",
        "  # Upper 1.5*IQR whisker = Q3 + 1.5 * IQR\n",
        "    \n",
        "print('Above: ', radius['radius_worst'].quantile(q = 0.75) + \n",
        "                      1.5*(radius['radius_worst'].quantile(q = 0.75) - radius['radius_worst'].quantile(q = 0.25)), 'are outliers')"
      ],
      "execution_count": 8,
      "outputs": [
        {
          "output_type": "stream",
          "text": [
            "Quantiles for Radius_mean\n",
            "1º Quartile:  11.7\n",
            "2º Quartile:  13.37\n",
            "3º Quartile:  15.78\n",
            "4º Quartile:  28.11\n",
            "Above:  21.9 are outliers\n",
            "\n",
            "\n",
            "Quantiles for Radius_se\n",
            "1º Quartile:  0.2324\n",
            "2º Quartile:  0.3242\n",
            "3º Quartile:  0.4789\n",
            "4º Quartile:  2.873\n",
            "Above:  0.84865 are outliers\n",
            "\n",
            "\n",
            "Quantiles for Radius_worst\n",
            "1º Quartile:  13.01\n",
            "2º Quartile:  14.97\n",
            "3º Quartile:  18.79\n",
            "4º Quartile:  36.04\n",
            "Above:  27.459999999999997 are outliers\n"
          ],
          "name": "stdout"
        }
      ]
    },
    {
      "cell_type": "code",
      "metadata": {
        "id": "JqmcrE6uE-nz",
        "colab_type": "code",
        "colab": {}
      },
      "source": [
        "#1º Quartile:  11.7\n",
        "#2º Quartile:  13.37\n",
        "#3º Quartile:  15.78\n",
        "#4º Quartile:  28.11\n",
        "#Ages above:  21.9 are outliers\n",
        "#Max is 28.11\n",
        "#Class 1- 25% lies below 11.7\n",
        "#Class-2- 50% lies between 11.7 and 15.78\n",
        "#Class-3- Rest 25% lies between 15.78 and 22\n",
        "#Class-4- Above age 22 are outliers\n",
        "\n",
        "def radius_mean(dataframe):\n",
        "    dataframe.loc[dataframe['radius_mean'] <= 11.7, 'radius_mean'] = 1\n",
        "    dataframe.loc[(dataframe['radius_mean'] > 11.7) & (dataframe['radius_mean'] <= 15.78), 'radius_mean'] = 2\n",
        "    dataframe.loc[(dataframe['radius_mean'] > 15.78) & (dataframe['radius_mean'] <= 22), 'radius_mean'] = 3\n",
        "    dataframe.loc[(dataframe['radius_mean'] > 22) & (dataframe['radius_mean'] <= 28.11), 'radius_mean'] = 4\n",
        "           \n",
        "    return dataframe\n",
        "radius_mean(radius);"
      ],
      "execution_count": 0,
      "outputs": []
    },
    {
      "cell_type": "code",
      "metadata": {
        "id": "COjapuzerNvC",
        "colab_type": "code",
        "colab": {}
      },
      "source": [
        "#1º Quartile:  13.01\n",
        "#2º Quartile:  14.97\n",
        "#3º Quartile:  18.79\n",
        "#4º Quartile:  36.04\n",
        "#Above:  27.459999999999997 are outliers\n",
        "#Max is 36.04\n",
        "#Class 1- 25% lies below 13.01\n",
        "#Class-2- 50% lies between 13.01 and 18.79\n",
        "#Class-3- Lies between 18.79 and 27.45\n",
        "#Class-4- Above age 27.45 are outliers\n",
        "\n",
        "def radius_worst(dataframe):\n",
        "    dataframe.loc[dataframe['radius_worst'] <= 13.01, 'radius_worst'] = 1\n",
        "    dataframe.loc[(dataframe['radius_worst'] > 13.01) & (dataframe['radius_worst'] <= 18.79), 'radius_worst'] = 2\n",
        "    dataframe.loc[(dataframe['radius_worst'] > 18.79) & (dataframe['radius_worst'] <= 27.45), 'radius_worst'] = 3\n",
        "    dataframe.loc[(dataframe['radius_worst'] > 27.45) & (dataframe['radius_worst'] <= 36.04), 'radius_worst'] = 4\n",
        "           \n",
        "    return dataframe\n",
        "radius_worst(radius);"
      ],
      "execution_count": 0,
      "outputs": []
    },
    {
      "cell_type": "code",
      "metadata": {
        "id": "2Pf5SvoZE-kw",
        "colab_type": "code",
        "outputId": "012c3b27-a658-4844-fc87-15d2e1e8fbbe",
        "colab": {
          "base_uri": "https://localhost:8080/",
          "height": 204
        }
      },
      "source": [
        "radius.head()"
      ],
      "execution_count": 11,
      "outputs": [
        {
          "output_type": "execute_result",
          "data": {
            "text/html": [
              "<div>\n",
              "<style scoped>\n",
              "    .dataframe tbody tr th:only-of-type {\n",
              "        vertical-align: middle;\n",
              "    }\n",
              "\n",
              "    .dataframe tbody tr th {\n",
              "        vertical-align: top;\n",
              "    }\n",
              "\n",
              "    .dataframe thead th {\n",
              "        text-align: right;\n",
              "    }\n",
              "</style>\n",
              "<table border=\"1\" class=\"dataframe\">\n",
              "  <thead>\n",
              "    <tr style=\"text-align: right;\">\n",
              "      <th></th>\n",
              "      <th>radius_mean</th>\n",
              "      <th>radius_se</th>\n",
              "      <th>radius_worst</th>\n",
              "    </tr>\n",
              "  </thead>\n",
              "  <tbody>\n",
              "    <tr>\n",
              "      <th>0</th>\n",
              "      <td>3.0</td>\n",
              "      <td>1.0950</td>\n",
              "      <td>3.0</td>\n",
              "    </tr>\n",
              "    <tr>\n",
              "      <th>1</th>\n",
              "      <td>3.0</td>\n",
              "      <td>0.5435</td>\n",
              "      <td>3.0</td>\n",
              "    </tr>\n",
              "    <tr>\n",
              "      <th>2</th>\n",
              "      <td>3.0</td>\n",
              "      <td>0.7456</td>\n",
              "      <td>3.0</td>\n",
              "    </tr>\n",
              "    <tr>\n",
              "      <th>3</th>\n",
              "      <td>1.0</td>\n",
              "      <td>0.4956</td>\n",
              "      <td>2.0</td>\n",
              "    </tr>\n",
              "    <tr>\n",
              "      <th>4</th>\n",
              "      <td>3.0</td>\n",
              "      <td>0.7572</td>\n",
              "      <td>3.0</td>\n",
              "    </tr>\n",
              "  </tbody>\n",
              "</table>\n",
              "</div>"
            ],
            "text/plain": [
              "   radius_mean  radius_se  radius_worst\n",
              "0          3.0     1.0950           3.0\n",
              "1          3.0     0.5435           3.0\n",
              "2          3.0     0.7456           3.0\n",
              "3          1.0     0.4956           2.0\n",
              "4          3.0     0.7572           3.0"
            ]
          },
          "metadata": {
            "tags": []
          },
          "execution_count": 11
        }
      ]
    },
    {
      "cell_type": "code",
      "metadata": {
        "id": "waR2CQ8W_GsU",
        "colab_type": "code",
        "outputId": "3dd99192-4ace-47ec-9b0c-318f1df61f71",
        "colab": {
          "base_uri": "https://localhost:8080/",
          "height": 204
        }
      },
      "source": [
        "texture = can_data.iloc[: , [3,13,23]]\n",
        "texture.head()"
      ],
      "execution_count": 12,
      "outputs": [
        {
          "output_type": "execute_result",
          "data": {
            "text/html": [
              "<div>\n",
              "<style scoped>\n",
              "    .dataframe tbody tr th:only-of-type {\n",
              "        vertical-align: middle;\n",
              "    }\n",
              "\n",
              "    .dataframe tbody tr th {\n",
              "        vertical-align: top;\n",
              "    }\n",
              "\n",
              "    .dataframe thead th {\n",
              "        text-align: right;\n",
              "    }\n",
              "</style>\n",
              "<table border=\"1\" class=\"dataframe\">\n",
              "  <thead>\n",
              "    <tr style=\"text-align: right;\">\n",
              "      <th></th>\n",
              "      <th>texture_mean</th>\n",
              "      <th>texture_se</th>\n",
              "      <th>texture_worst</th>\n",
              "    </tr>\n",
              "  </thead>\n",
              "  <tbody>\n",
              "    <tr>\n",
              "      <th>0</th>\n",
              "      <td>10.38</td>\n",
              "      <td>0.9053</td>\n",
              "      <td>17.33</td>\n",
              "    </tr>\n",
              "    <tr>\n",
              "      <th>1</th>\n",
              "      <td>17.77</td>\n",
              "      <td>0.7339</td>\n",
              "      <td>23.41</td>\n",
              "    </tr>\n",
              "    <tr>\n",
              "      <th>2</th>\n",
              "      <td>21.25</td>\n",
              "      <td>0.7869</td>\n",
              "      <td>25.53</td>\n",
              "    </tr>\n",
              "    <tr>\n",
              "      <th>3</th>\n",
              "      <td>20.38</td>\n",
              "      <td>1.1560</td>\n",
              "      <td>26.50</td>\n",
              "    </tr>\n",
              "    <tr>\n",
              "      <th>4</th>\n",
              "      <td>14.34</td>\n",
              "      <td>0.7813</td>\n",
              "      <td>16.67</td>\n",
              "    </tr>\n",
              "  </tbody>\n",
              "</table>\n",
              "</div>"
            ],
            "text/plain": [
              "   texture_mean  texture_se  texture_worst\n",
              "0         10.38      0.9053          17.33\n",
              "1         17.77      0.7339          23.41\n",
              "2         21.25      0.7869          25.53\n",
              "3         20.38      1.1560          26.50\n",
              "4         14.34      0.7813          16.67"
            ]
          },
          "metadata": {
            "tags": []
          },
          "execution_count": 12
        }
      ]
    },
    {
      "cell_type": "code",
      "metadata": {
        "id": "-bl6RPqLPXDD",
        "colab_type": "code",
        "outputId": "67ca01b4-958c-4492-9965-ab36b5fb4d4d",
        "colab": {
          "base_uri": "https://localhost:8080/",
          "height": 238
        }
      },
      "source": [
        "print('Max texture_mean: ', texture['texture_mean'].max())\n",
        "print('Min texture_mean: ', texture['texture_mean'].min())\n",
        "print('Null Values in texture_mean: ', texture['texture_mean'].isnull().any())\n",
        "print('\\n')\n",
        "print('Max texture_se: ', texture['texture_se'].max())\n",
        "print('Min texture_se: ', texture['texture_se'].min())\n",
        "print('Null Values in texture_se: ', texture['texture_se'].isnull().any())\n",
        "print('\\n')\n",
        "print('Max texture_worst: ', texture['texture_worst'].max())\n",
        "print('Min texture_worst: ', texture['texture_worst'].min())\n",
        "print('Null Values in texture_worst: ', texture['texture_worst'].isnull().any())"
      ],
      "execution_count": 13,
      "outputs": [
        {
          "output_type": "stream",
          "text": [
            "Max texture_mean:  39.28\n",
            "Min texture_mean:  9.71\n",
            "Null Values in texture_mean:  False\n",
            "\n",
            "\n",
            "Max texture_se:  4.885\n",
            "Min texture_se:  0.3602\n",
            "Null Values in texture_se:  False\n",
            "\n",
            "\n",
            "Max texture_worst:  49.54\n",
            "Min texture_worst:  12.02\n",
            "Null Values in texture_worst:  False\n"
          ],
          "name": "stdout"
        }
      ]
    },
    {
      "cell_type": "code",
      "metadata": {
        "id": "xeM0xRfPPXrn",
        "colab_type": "code",
        "colab": {
          "base_uri": "https://localhost:8080/",
          "height": 391
        },
        "outputId": "2036e80f-63bf-41ab-e674-c9ffe03fa627"
      },
      "source": [
        "# Quartiles\n",
        "print('Quantiles for texture_mean')\n",
        "print('1º Quartile: ', texture['texture_mean'].quantile(q = 0.25))\n",
        "print('2º Quartile: ', texture['texture_mean'].quantile(q = 0.50))\n",
        "print('3º Quartile: ', texture['texture_mean'].quantile(q = 0.75))\n",
        "print('4º Quartile: ', texture['texture_mean'].quantile(q = 1.00))\n",
        "#Calculate the outliers:\n",
        "  # Interquartile range, IQR = Q3 - Q1\n",
        "  # lower 1.5*IQR whisker = Q1 - 1.5 * IQR \n",
        "  # Upper 1.5*IQR whisker = Q3 + 1.5 * IQR\n",
        "    \n",
        "print('Above: ', texture['texture_mean'].quantile(q = 0.75) + \n",
        "                      1.5*(texture['texture_mean'].quantile(q = 0.75) - texture['texture_mean'].quantile(q = 0.25)), 'are outliers')\n",
        "print('\\n')\n",
        "print('Quantiles for texture_se')\n",
        "print('1º Quartile: ', texture['texture_se'].quantile(q = 0.25))\n",
        "print('2º Quartile: ', texture['texture_se'].quantile(q = 0.50))\n",
        "print('3º Quartile: ', texture['texture_se'].quantile(q = 0.75))\n",
        "print('4º Quartile: ', texture['texture_se'].quantile(q = 1.00))\n",
        "#Calculate the outliers:\n",
        "  # Interquartile range, IQR = Q3 - Q1\n",
        "  # lower 1.5*IQR whisker = Q1 - 1.5 * IQR \n",
        "  # Upper 1.5*IQR whisker = Q3 + 1.5 * IQR\n",
        "    \n",
        "print('Above: ', texture['texture_se'].quantile(q = 0.75) + \n",
        "                      1.5*(texture['texture_se'].quantile(q = 0.75) - texture['texture_se'].quantile(q = 0.25)), 'are outliers')\n",
        "print('\\n')\n",
        "print('Quantiles for texture_worst')\n",
        "print('1º Quartile: ', texture['texture_worst'].quantile(q = 0.25))\n",
        "print('2º Quartile: ', texture['texture_worst'].quantile(q = 0.50))\n",
        "print('3º Quartile: ', texture['texture_worst'].quantile(q = 0.75))\n",
        "print('4º Quartile: ', texture['texture_worst'].quantile(q = 1.00))\n",
        "#Calculate the outliers:\n",
        "  # Interquartile range, IQR = Q3 - Q1\n",
        "  # lower 1.5*IQR whisker = Q1 - 1.5 * IQR \n",
        "  # Upper 1.5*IQR whisker = Q3 + 1.5 * IQR\n",
        "    \n",
        "print('Above: ', texture['texture_worst'].quantile(q = 0.75) + \n",
        "                      1.5*(texture['texture_worst'].quantile(q = 0.75) - texture['texture_worst'].quantile(q = 0.25)), 'are outliers')"
      ],
      "execution_count": 14,
      "outputs": [
        {
          "output_type": "stream",
          "text": [
            "Quantiles for texture_mean\n",
            "1º Quartile:  16.17\n",
            "2º Quartile:  18.84\n",
            "3º Quartile:  21.8\n",
            "4º Quartile:  39.28\n",
            "Above:  30.244999999999997 are outliers\n",
            "\n",
            "\n",
            "Quantiles for texture_se\n",
            "1º Quartile:  0.8339\n",
            "2º Quartile:  1.1079999999999999\n",
            "3º Quartile:  1.474\n",
            "4º Quartile:  4.885\n",
            "Above:  2.43415 are outliers\n",
            "\n",
            "\n",
            "Quantiles for texture_worst\n",
            "1º Quartile:  21.08\n",
            "2º Quartile:  25.41\n",
            "3º Quartile:  29.72\n",
            "4º Quartile:  49.54\n",
            "Above:  42.68 are outliers\n"
          ],
          "name": "stdout"
        }
      ]
    },
    {
      "cell_type": "code",
      "metadata": {
        "id": "90p7qiGiPXoW",
        "colab_type": "code",
        "colab": {}
      },
      "source": [
        "#1º Quartile:  16.17\n",
        "#2º Quartile:  18.84\n",
        "#3º Quartile:  21.8\n",
        "#4º Quartile:  39.28\n",
        "#Above:  30.244999999999997 are outliers\n",
        "#Max is 39.28\n",
        "#Class 1- 25% lies below 16.17\n",
        "#Class-2- 50% lies between 16.7 and 21.8\n",
        "#Class-3- Rest 25% lies between 21.8 and 30.24\n",
        "#Class-4- Above age 30.24 are outliers\n",
        "\n",
        "def texture_mean(dataframe):\n",
        "    dataframe.loc[dataframe['texture_mean'] <= 16.17, 'texture_mean'] = 1\n",
        "    dataframe.loc[(dataframe['texture_mean'] > 16.17) & (dataframe['texture_mean'] <= 21.8), 'texture_mean'] = 2\n",
        "    dataframe.loc[(dataframe['texture_mean'] > 21.8) & (dataframe['texture_mean'] <= 30.24), 'texture_mean'] = 3\n",
        "    dataframe.loc[(dataframe['texture_mean'] > 30.24) & (dataframe['texture_mean'] <= 39.28), 'texture_mean'] = 4\n",
        "           \n",
        "    return dataframe\n",
        "texture_mean(texture);"
      ],
      "execution_count": 0,
      "outputs": []
    },
    {
      "cell_type": "code",
      "metadata": {
        "id": "wYd2s6LTPXlZ",
        "colab_type": "code",
        "colab": {}
      },
      "source": [
        "#1º Quartile:  21.08\n",
        "#2º Quartile:  25.41\n",
        "#3º Quartile:  29.72\n",
        "#4º Quartile:  49.54\n",
        "#Above:  42.68 are outliers\n",
        "#Max is 49.54\n",
        "#Class 1- 25% lies below 21.08\n",
        "#Class-2- 50% lies between 21.08 and 29.72\n",
        "#Class-3- Lies between 29.72 and 42.68\n",
        "#Class-4- Above age 42.68 are outliers\n",
        "\n",
        "def texture_worst(dataframe):\n",
        "    dataframe.loc[dataframe['texture_worst'] <= 21.08, 'texture_worst'] = 1\n",
        "    dataframe.loc[(dataframe['texture_worst'] > 21.08) & (dataframe['texture_worst'] <= 29.72), 'texture_worst'] = 2\n",
        "    dataframe.loc[(dataframe['texture_worst'] > 29.72) & (dataframe['texture_worst'] <= 42.68), 'texture_worst'] = 3\n",
        "    dataframe.loc[(dataframe['texture_worst'] > 42.68) & (dataframe['texture_worst'] <= 49.54), 'texture_worst'] = 4\n",
        "           \n",
        "    return dataframe\n",
        "texture_worst(texture);"
      ],
      "execution_count": 0,
      "outputs": []
    },
    {
      "cell_type": "code",
      "metadata": {
        "id": "6cMx04VePXfZ",
        "colab_type": "code",
        "colab": {
          "base_uri": "https://localhost:8080/",
          "height": 204
        },
        "outputId": "8ba41e11-89bc-4d44-e399-50a282c6728c"
      },
      "source": [
        "texture.head()"
      ],
      "execution_count": 17,
      "outputs": [
        {
          "output_type": "execute_result",
          "data": {
            "text/html": [
              "<div>\n",
              "<style scoped>\n",
              "    .dataframe tbody tr th:only-of-type {\n",
              "        vertical-align: middle;\n",
              "    }\n",
              "\n",
              "    .dataframe tbody tr th {\n",
              "        vertical-align: top;\n",
              "    }\n",
              "\n",
              "    .dataframe thead th {\n",
              "        text-align: right;\n",
              "    }\n",
              "</style>\n",
              "<table border=\"1\" class=\"dataframe\">\n",
              "  <thead>\n",
              "    <tr style=\"text-align: right;\">\n",
              "      <th></th>\n",
              "      <th>texture_mean</th>\n",
              "      <th>texture_se</th>\n",
              "      <th>texture_worst</th>\n",
              "    </tr>\n",
              "  </thead>\n",
              "  <tbody>\n",
              "    <tr>\n",
              "      <th>0</th>\n",
              "      <td>1.0</td>\n",
              "      <td>0.9053</td>\n",
              "      <td>1.0</td>\n",
              "    </tr>\n",
              "    <tr>\n",
              "      <th>1</th>\n",
              "      <td>2.0</td>\n",
              "      <td>0.7339</td>\n",
              "      <td>2.0</td>\n",
              "    </tr>\n",
              "    <tr>\n",
              "      <th>2</th>\n",
              "      <td>2.0</td>\n",
              "      <td>0.7869</td>\n",
              "      <td>2.0</td>\n",
              "    </tr>\n",
              "    <tr>\n",
              "      <th>3</th>\n",
              "      <td>2.0</td>\n",
              "      <td>1.1560</td>\n",
              "      <td>2.0</td>\n",
              "    </tr>\n",
              "    <tr>\n",
              "      <th>4</th>\n",
              "      <td>1.0</td>\n",
              "      <td>0.7813</td>\n",
              "      <td>1.0</td>\n",
              "    </tr>\n",
              "  </tbody>\n",
              "</table>\n",
              "</div>"
            ],
            "text/plain": [
              "   texture_mean  texture_se  texture_worst\n",
              "0           1.0      0.9053            1.0\n",
              "1           2.0      0.7339            2.0\n",
              "2           2.0      0.7869            2.0\n",
              "3           2.0      1.1560            2.0\n",
              "4           1.0      0.7813            1.0"
            ]
          },
          "metadata": {
            "tags": []
          },
          "execution_count": 17
        }
      ]
    },
    {
      "cell_type": "code",
      "metadata": {
        "id": "QYO_aLNn_ziJ",
        "colab_type": "code",
        "outputId": "5bf7149a-aaff-4886-ab1c-be62b78f8e9a",
        "colab": {
          "base_uri": "https://localhost:8080/",
          "height": 204
        }
      },
      "source": [
        "perimeter = can_data.iloc[: , [4,14,24]]\n",
        "perimeter.head()"
      ],
      "execution_count": 18,
      "outputs": [
        {
          "output_type": "execute_result",
          "data": {
            "text/html": [
              "<div>\n",
              "<style scoped>\n",
              "    .dataframe tbody tr th:only-of-type {\n",
              "        vertical-align: middle;\n",
              "    }\n",
              "\n",
              "    .dataframe tbody tr th {\n",
              "        vertical-align: top;\n",
              "    }\n",
              "\n",
              "    .dataframe thead th {\n",
              "        text-align: right;\n",
              "    }\n",
              "</style>\n",
              "<table border=\"1\" class=\"dataframe\">\n",
              "  <thead>\n",
              "    <tr style=\"text-align: right;\">\n",
              "      <th></th>\n",
              "      <th>perimeter_mean</th>\n",
              "      <th>perimeter_se</th>\n",
              "      <th>perimeter_worst</th>\n",
              "    </tr>\n",
              "  </thead>\n",
              "  <tbody>\n",
              "    <tr>\n",
              "      <th>0</th>\n",
              "      <td>122.80</td>\n",
              "      <td>8.589</td>\n",
              "      <td>184.60</td>\n",
              "    </tr>\n",
              "    <tr>\n",
              "      <th>1</th>\n",
              "      <td>132.90</td>\n",
              "      <td>3.398</td>\n",
              "      <td>158.80</td>\n",
              "    </tr>\n",
              "    <tr>\n",
              "      <th>2</th>\n",
              "      <td>130.00</td>\n",
              "      <td>4.585</td>\n",
              "      <td>152.50</td>\n",
              "    </tr>\n",
              "    <tr>\n",
              "      <th>3</th>\n",
              "      <td>77.58</td>\n",
              "      <td>3.445</td>\n",
              "      <td>98.87</td>\n",
              "    </tr>\n",
              "    <tr>\n",
              "      <th>4</th>\n",
              "      <td>135.10</td>\n",
              "      <td>5.438</td>\n",
              "      <td>152.20</td>\n",
              "    </tr>\n",
              "  </tbody>\n",
              "</table>\n",
              "</div>"
            ],
            "text/plain": [
              "   perimeter_mean  perimeter_se  perimeter_worst\n",
              "0          122.80         8.589           184.60\n",
              "1          132.90         3.398           158.80\n",
              "2          130.00         4.585           152.50\n",
              "3           77.58         3.445            98.87\n",
              "4          135.10         5.438           152.20"
            ]
          },
          "metadata": {
            "tags": []
          },
          "execution_count": 18
        }
      ]
    },
    {
      "cell_type": "code",
      "metadata": {
        "id": "j-bYMr7xvZMw",
        "colab_type": "code",
        "colab": {
          "base_uri": "https://localhost:8080/",
          "height": 238
        },
        "outputId": "297f9e5a-e6dc-4d9b-aab6-7f6381e85e5b"
      },
      "source": [
        "print('Max perimeter_mean: ', perimeter['perimeter_mean'].max())\n",
        "print('Min perimeter_mean: ', perimeter['perimeter_mean'].min())\n",
        "print('Null Values in perimeter_mean: ', perimeter['perimeter_mean'].isnull().any())\n",
        "print('\\n')\n",
        "print('Max perimeter_se: ', perimeter['perimeter_se'].max())\n",
        "print('Min perimeter_se: ', perimeter['perimeter_se'].min())\n",
        "print('Null Values in perimeter_se: ', perimeter['perimeter_se'].isnull().any())\n",
        "print('\\n')\n",
        "print('Max perimeter_worst: ', perimeter['perimeter_worst'].max())\n",
        "print('Min perimeter_worst: ', perimeter['perimeter_worst'].min())\n",
        "print('Null Values in perimeter_worst: ', perimeter['perimeter_worst'].isnull().any())"
      ],
      "execution_count": 19,
      "outputs": [
        {
          "output_type": "stream",
          "text": [
            "Max perimeter_mean:  188.5\n",
            "Min perimeter_mean:  43.79\n",
            "Null Values in perimeter_mean:  False\n",
            "\n",
            "\n",
            "Max perimeter_se:  21.98\n",
            "Min perimeter_se:  0.757\n",
            "Null Values in perimeter_se:  False\n",
            "\n",
            "\n",
            "Max perimeter_worst:  251.2\n",
            "Min perimeter_worst:  50.41\n",
            "Null Values in perimeter_worst:  False\n"
          ],
          "name": "stdout"
        }
      ]
    },
    {
      "cell_type": "code",
      "metadata": {
        "id": "tPzWxUnnvZUk",
        "colab_type": "code",
        "colab": {
          "base_uri": "https://localhost:8080/",
          "height": 391
        },
        "outputId": "09f2dccf-8a1d-4f74-ad0e-665e4bddc8b0"
      },
      "source": [
        "# Quartiles\n",
        "print('Quantiles for perimeter_mean')\n",
        "print('1º Quartile: ', perimeter['perimeter_mean'].quantile(q = 0.25))\n",
        "print('2º Quartile: ', perimeter['perimeter_mean'].quantile(q = 0.50))\n",
        "print('3º Quartile: ', perimeter['perimeter_mean'].quantile(q = 0.75))\n",
        "print('4º Quartile: ', perimeter['perimeter_mean'].quantile(q = 1.00))\n",
        "#Calculate the outliers:\n",
        "  # Interquartile range, IQR = Q3 - Q1\n",
        "  # lower 1.5*IQR whisker = Q1 - 1.5 * IQR \n",
        "  # Upper 1.5*IQR whisker = Q3 + 1.5 * IQR\n",
        "    \n",
        "print('Above: ', perimeter['perimeter_mean'].quantile(q = 0.75) + \n",
        "                      1.5*(perimeter['perimeter_mean'].quantile(q = 0.75) - perimeter['perimeter_mean'].quantile(q = 0.25)), 'are outliers')\n",
        "print('\\n')\n",
        "print('Quantiles for perimeter_se')\n",
        "print('1º Quartile: ', perimeter['perimeter_se'].quantile(q = 0.25))\n",
        "print('2º Quartile: ', perimeter['perimeter_se'].quantile(q = 0.50))\n",
        "print('3º Quartile: ', perimeter['perimeter_se'].quantile(q = 0.75))\n",
        "print('4º Quartile: ', perimeter['perimeter_se'].quantile(q = 1.00))\n",
        "#Calculate the outliers:\n",
        "  # Interquartile range, IQR = Q3 - Q1\n",
        "  # lower 1.5*IQR whisker = Q1 - 1.5 * IQR \n",
        "  # Upper 1.5*IQR whisker = Q3 + 1.5 * IQR\n",
        "    \n",
        "print('Above: ', perimeter['perimeter_se'].quantile(q = 0.75) + \n",
        "                      1.5*(perimeter['perimeter_se'].quantile(q = 0.75) - perimeter['perimeter_se'].quantile(q = 0.25)), 'are outliers')\n",
        "print('\\n')\n",
        "print('Quantiles for perimeter_worst')\n",
        "print('1º Quartile: ', perimeter['perimeter_worst'].quantile(q = 0.25))\n",
        "print('2º Quartile: ', perimeter['perimeter_worst'].quantile(q = 0.50))\n",
        "print('3º Quartile: ', perimeter['perimeter_worst'].quantile(q = 0.75))\n",
        "print('4º Quartile: ', perimeter['perimeter_worst'].quantile(q = 1.00))\n",
        "#Calculate the outliers:\n",
        "  # Interquartile range, IQR = Q3 - Q1\n",
        "  # lower 1.5*IQR whisker = Q1 - 1.5 * IQR \n",
        "  # Upper 1.5*IQR whisker = Q3 + 1.5 * IQR\n",
        "    \n",
        "print('Above: ', perimeter['perimeter_worst'].quantile(q = 0.75) + \n",
        "                      1.5*(perimeter['perimeter_worst'].quantile(q = 0.75) - perimeter['perimeter_worst'].quantile(q = 0.25)), 'are outliers')"
      ],
      "execution_count": 20,
      "outputs": [
        {
          "output_type": "stream",
          "text": [
            "Quantiles for perimeter_mean\n",
            "1º Quartile:  75.17\n",
            "2º Quartile:  86.24\n",
            "3º Quartile:  104.1\n",
            "4º Quartile:  188.5\n",
            "Above:  147.49499999999998 are outliers\n",
            "\n",
            "\n",
            "Quantiles for perimeter_se\n",
            "1º Quartile:  1.6059999999999999\n",
            "2º Quartile:  2.287\n",
            "3º Quartile:  3.3569999999999998\n",
            "4º Quartile:  21.98\n",
            "Above:  5.983499999999999 are outliers\n",
            "\n",
            "\n",
            "Quantiles for perimeter_worst\n",
            "1º Quartile:  84.11\n",
            "2º Quartile:  97.66\n",
            "3º Quartile:  125.4\n",
            "4º Quartile:  251.2\n",
            "Above:  187.335 are outliers\n"
          ],
          "name": "stdout"
        }
      ]
    },
    {
      "cell_type": "code",
      "metadata": {
        "id": "GQFEqeWZvZ-k",
        "colab_type": "code",
        "colab": {}
      },
      "source": [
        "#1º Quartile:  75.17\n",
        "#2º Quartile:  86.24\n",
        "#3º Quartile:  104.1\n",
        "#4º Quartile:  188.5\n",
        "#Above:  147.49499999999998 are outliers\n",
        "#Max is 188.5\n",
        "#Class 1- 25% lies below 75.17\n",
        "#Class-2- 50% lies between 75.17 and 104.1\n",
        "#Class-3- Rest 25% lies between 104.1 and 147.49\n",
        "#Class-4- Above age 147.49 are outliers\n",
        "\n",
        "def perimeter_mean(dataframe):\n",
        "    dataframe.loc[dataframe['perimeter_mean'] <= 75.17, 'perimeter_mean'] = 1\n",
        "    dataframe.loc[(dataframe['perimeter_mean'] > 75.17) & (dataframe['perimeter_mean'] <= 104.1), 'perimeter_mean'] = 2\n",
        "    dataframe.loc[(dataframe['perimeter_mean'] > 104.1) & (dataframe['perimeter_mean'] <= 147.49), 'perimeter_mean'] = 3\n",
        "    dataframe.loc[(dataframe['perimeter_mean'] > 147.49) & (dataframe['perimeter_mean'] <= 188.5), 'perimeter_mean'] = 4\n",
        "           \n",
        "    return dataframe\n",
        "perimeter_mean(perimeter);"
      ],
      "execution_count": 0,
      "outputs": []
    },
    {
      "cell_type": "code",
      "metadata": {
        "id": "euZVx7kWvaiu",
        "colab_type": "code",
        "colab": {}
      },
      "source": [
        "#1º Quartile:  84.11\n",
        "#2º Quartile:  97.66\n",
        "#3º Quartile:  125.4\n",
        "#4º Quartile:  251.2\n",
        "#Above:  187.335 are outliers\n",
        "#Max is 251.2\n",
        "#Class 1- 25% lies below 84.11\n",
        "#Class-2- 50% lies between 84.11 and 125.4\n",
        "#Class-3- Lies between 125.4 and 187.335\n",
        "#Class-4- Above age 187.355 are outliers\n",
        "\n",
        "def perimeter_worst(dataframe):\n",
        "    dataframe.loc[dataframe['perimeter_worst'] <= 84.11, 'perimeter_worst'] = 1\n",
        "    dataframe.loc[(dataframe['perimeter_worst'] > 84.11) & (dataframe['perimeter_worst'] <= 125.4), 'perimeter_worst'] = 2\n",
        "    dataframe.loc[(dataframe['perimeter_worst'] > 125.4) & (dataframe['perimeter_worst'] <= 187.335), 'perimeter_worst'] = 3\n",
        "    dataframe.loc[(dataframe['perimeter_worst'] > 187.335) & (dataframe['perimeter_worst'] <= 251.2), 'perimeter_worst'] = 4\n",
        "           \n",
        "    return dataframe\n",
        "perimeter_worst(perimeter);"
      ],
      "execution_count": 0,
      "outputs": []
    },
    {
      "cell_type": "code",
      "metadata": {
        "id": "FkVowl86va21",
        "colab_type": "code",
        "colab": {
          "base_uri": "https://localhost:8080/",
          "height": 204
        },
        "outputId": "4559f7c1-c0ff-4837-b5bf-daebc6ae9b04"
      },
      "source": [
        "perimeter.head()"
      ],
      "execution_count": 23,
      "outputs": [
        {
          "output_type": "execute_result",
          "data": {
            "text/html": [
              "<div>\n",
              "<style scoped>\n",
              "    .dataframe tbody tr th:only-of-type {\n",
              "        vertical-align: middle;\n",
              "    }\n",
              "\n",
              "    .dataframe tbody tr th {\n",
              "        vertical-align: top;\n",
              "    }\n",
              "\n",
              "    .dataframe thead th {\n",
              "        text-align: right;\n",
              "    }\n",
              "</style>\n",
              "<table border=\"1\" class=\"dataframe\">\n",
              "  <thead>\n",
              "    <tr style=\"text-align: right;\">\n",
              "      <th></th>\n",
              "      <th>perimeter_mean</th>\n",
              "      <th>perimeter_se</th>\n",
              "      <th>perimeter_worst</th>\n",
              "    </tr>\n",
              "  </thead>\n",
              "  <tbody>\n",
              "    <tr>\n",
              "      <th>0</th>\n",
              "      <td>3.0</td>\n",
              "      <td>8.589</td>\n",
              "      <td>3.0</td>\n",
              "    </tr>\n",
              "    <tr>\n",
              "      <th>1</th>\n",
              "      <td>3.0</td>\n",
              "      <td>3.398</td>\n",
              "      <td>3.0</td>\n",
              "    </tr>\n",
              "    <tr>\n",
              "      <th>2</th>\n",
              "      <td>3.0</td>\n",
              "      <td>4.585</td>\n",
              "      <td>3.0</td>\n",
              "    </tr>\n",
              "    <tr>\n",
              "      <th>3</th>\n",
              "      <td>2.0</td>\n",
              "      <td>3.445</td>\n",
              "      <td>2.0</td>\n",
              "    </tr>\n",
              "    <tr>\n",
              "      <th>4</th>\n",
              "      <td>3.0</td>\n",
              "      <td>5.438</td>\n",
              "      <td>3.0</td>\n",
              "    </tr>\n",
              "  </tbody>\n",
              "</table>\n",
              "</div>"
            ],
            "text/plain": [
              "   perimeter_mean  perimeter_se  perimeter_worst\n",
              "0             3.0         8.589              3.0\n",
              "1             3.0         3.398              3.0\n",
              "2             3.0         4.585              3.0\n",
              "3             2.0         3.445              2.0\n",
              "4             3.0         5.438              3.0"
            ]
          },
          "metadata": {
            "tags": []
          },
          "execution_count": 23
        }
      ]
    },
    {
      "cell_type": "code",
      "metadata": {
        "id": "e0_jawkR_z5C",
        "colab_type": "code",
        "outputId": "3d0fc602-751f-4806-f863-1310926291e1",
        "colab": {
          "base_uri": "https://localhost:8080/",
          "height": 204
        }
      },
      "source": [
        "area = can_data.iloc[: , [5,15,25]]\n",
        "area.head()"
      ],
      "execution_count": 24,
      "outputs": [
        {
          "output_type": "execute_result",
          "data": {
            "text/html": [
              "<div>\n",
              "<style scoped>\n",
              "    .dataframe tbody tr th:only-of-type {\n",
              "        vertical-align: middle;\n",
              "    }\n",
              "\n",
              "    .dataframe tbody tr th {\n",
              "        vertical-align: top;\n",
              "    }\n",
              "\n",
              "    .dataframe thead th {\n",
              "        text-align: right;\n",
              "    }\n",
              "</style>\n",
              "<table border=\"1\" class=\"dataframe\">\n",
              "  <thead>\n",
              "    <tr style=\"text-align: right;\">\n",
              "      <th></th>\n",
              "      <th>area_mean</th>\n",
              "      <th>area_se</th>\n",
              "      <th>area_worst</th>\n",
              "    </tr>\n",
              "  </thead>\n",
              "  <tbody>\n",
              "    <tr>\n",
              "      <th>0</th>\n",
              "      <td>1001.0</td>\n",
              "      <td>153.40</td>\n",
              "      <td>2019.0</td>\n",
              "    </tr>\n",
              "    <tr>\n",
              "      <th>1</th>\n",
              "      <td>1326.0</td>\n",
              "      <td>74.08</td>\n",
              "      <td>1956.0</td>\n",
              "    </tr>\n",
              "    <tr>\n",
              "      <th>2</th>\n",
              "      <td>1203.0</td>\n",
              "      <td>94.03</td>\n",
              "      <td>1709.0</td>\n",
              "    </tr>\n",
              "    <tr>\n",
              "      <th>3</th>\n",
              "      <td>386.1</td>\n",
              "      <td>27.23</td>\n",
              "      <td>567.7</td>\n",
              "    </tr>\n",
              "    <tr>\n",
              "      <th>4</th>\n",
              "      <td>1297.0</td>\n",
              "      <td>94.44</td>\n",
              "      <td>1575.0</td>\n",
              "    </tr>\n",
              "  </tbody>\n",
              "</table>\n",
              "</div>"
            ],
            "text/plain": [
              "   area_mean  area_se  area_worst\n",
              "0     1001.0   153.40      2019.0\n",
              "1     1326.0    74.08      1956.0\n",
              "2     1203.0    94.03      1709.0\n",
              "3      386.1    27.23       567.7\n",
              "4     1297.0    94.44      1575.0"
            ]
          },
          "metadata": {
            "tags": []
          },
          "execution_count": 24
        }
      ]
    },
    {
      "cell_type": "code",
      "metadata": {
        "id": "ssc0KsQHxnZf",
        "colab_type": "code",
        "colab": {
          "base_uri": "https://localhost:8080/",
          "height": 238
        },
        "outputId": "26fb6af5-2e43-40af-ba3f-732c6ebe6bf6"
      },
      "source": [
        "print('Max area_mean: ', area['area_mean'].max())\n",
        "print('Min area_mean: ', area['area_mean'].min())\n",
        "print('Null Values in area_mean: ', area['area_mean'].isnull().any())\n",
        "print('\\n')\n",
        "print('Max area_se: ', area['area_se'].max())\n",
        "print('Min area_se: ', area['area_se'].min())\n",
        "print('Null Values in area_se: ', area['area_se'].isnull().any())\n",
        "print('\\n')\n",
        "print('Max area_worst: ', area['area_worst'].max())\n",
        "print('Min area_worst: ', area['area_worst'].min())\n",
        "print('Null Values in area_worst: ', area['area_worst'].isnull().any())"
      ],
      "execution_count": 25,
      "outputs": [
        {
          "output_type": "stream",
          "text": [
            "Max area_mean:  2501.0\n",
            "Min area_mean:  143.5\n",
            "Null Values in area_mean:  False\n",
            "\n",
            "\n",
            "Max area_se:  542.2\n",
            "Min area_se:  6.8020000000000005\n",
            "Null Values in area_se:  False\n",
            "\n",
            "\n",
            "Max area_worst:  4254.0\n",
            "Min area_worst:  185.2\n",
            "Null Values in area_worst:  False\n"
          ],
          "name": "stdout"
        }
      ]
    },
    {
      "cell_type": "code",
      "metadata": {
        "id": "LwkehLQqxqqS",
        "colab_type": "code",
        "colab": {
          "base_uri": "https://localhost:8080/",
          "height": 391
        },
        "outputId": "a8219260-2d8c-44e2-87fa-23296a290531"
      },
      "source": [
        "# Quartiles\n",
        "print('Quantiles for area_mean')\n",
        "print('1º Quartile: ', area['area_mean'].quantile(q = 0.25))\n",
        "print('2º Quartile: ', area['area_mean'].quantile(q = 0.50))\n",
        "print('3º Quartile: ', area['area_mean'].quantile(q = 0.75))\n",
        "print('4º Quartile: ', area['area_mean'].quantile(q = 1.00))\n",
        "#Calculate the outliers:\n",
        "  # Interquartile range, IQR = Q3 - Q1\n",
        "  # lower 1.5*IQR whisker = Q1 - 1.5 * IQR \n",
        "  # Upper 1.5*IQR whisker = Q3 + 1.5 * IQR\n",
        "    \n",
        "print('Above: ', area['area_mean'].quantile(q = 0.75) + \n",
        "                      1.5*(area['area_mean'].quantile(q = 0.75) - area['area_mean'].quantile(q = 0.25)), 'are outliers')\n",
        "print('\\n')\n",
        "print('Quantiles for area_se')\n",
        "print('1º Quartile: ', area['area_se'].quantile(q = 0.25))\n",
        "print('2º Quartile: ', area['area_se'].quantile(q = 0.50))\n",
        "print('3º Quartile: ', area['area_se'].quantile(q = 0.75))\n",
        "print('4º Quartile: ', area['area_se'].quantile(q = 1.00))\n",
        "#Calculate the outliers:\n",
        "  # Interquartile range, IQR = Q3 - Q1\n",
        "  # lower 1.5*IQR whisker = Q1 - 1.5 * IQR \n",
        "  # Upper 1.5*IQR whisker = Q3 + 1.5 * IQR\n",
        "    \n",
        "print('Above: ', area['area_se'].quantile(q = 0.75) + \n",
        "                      1.5*(area['area_se'].quantile(q = 0.75) - area['area_se'].quantile(q = 0.25)), 'are outliers')\n",
        "print('\\n')\n",
        "print('Quantiles for area_worst')\n",
        "print('1º Quartile: ', area['area_worst'].quantile(q = 0.25))\n",
        "print('2º Quartile: ', area['area_worst'].quantile(q = 0.50))\n",
        "print('3º Quartile: ', area['area_worst'].quantile(q = 0.75))\n",
        "print('4º Quartile: ', area['area_worst'].quantile(q = 1.00))\n",
        "#Calculate the outliers:\n",
        "  # Interquartile range, IQR = Q3 - Q1\n",
        "  # lower 1.5*IQR whisker = Q1 - 1.5 * IQR \n",
        "  # Upper 1.5*IQR whisker = Q3 + 1.5 * IQR\n",
        "    \n",
        "print('Above: ', area['area_worst'].quantile(q = 0.75) + \n",
        "                      1.5*(area['area_worst'].quantile(q = 0.75) - area['area_worst'].quantile(q = 0.25)), 'are outliers')"
      ],
      "execution_count": 26,
      "outputs": [
        {
          "output_type": "stream",
          "text": [
            "Quantiles for area_mean\n",
            "1º Quartile:  420.3\n",
            "2º Quartile:  551.1\n",
            "3º Quartile:  782.7\n",
            "4º Quartile:  2501.0\n",
            "Above:  1326.3000000000002 are outliers\n",
            "\n",
            "\n",
            "Quantiles for area_se\n",
            "1º Quartile:  17.85\n",
            "2º Quartile:  24.53\n",
            "3º Quartile:  45.19\n",
            "4º Quartile:  542.2\n",
            "Above:  86.19999999999999 are outliers\n",
            "\n",
            "\n",
            "Quantiles for area_worst\n",
            "1º Quartile:  515.3\n",
            "2º Quartile:  686.5\n",
            "3º Quartile:  1084.0\n",
            "4º Quartile:  4254.0\n",
            "Above:  1937.0500000000002 are outliers\n"
          ],
          "name": "stdout"
        }
      ]
    },
    {
      "cell_type": "code",
      "metadata": {
        "id": "AtWqZV7Jxrg8",
        "colab_type": "code",
        "colab": {}
      },
      "source": [
        "#1º Quartile:  420.3\n",
        "#2º Quartile:  551.1\n",
        "#3º Quartile:  782.7\n",
        "#4º Quartile:  2501.0\n",
        "#Above:  1326.3000000000002 are outliers\n",
        "#Max is 2501\n",
        "#Class 1- 25% lies below 420.3\n",
        "#Class-2- 50% lies between 420.3 and 782.7\n",
        "#Class-3- Rest 25% lies between 782.7 and 1326.30\n",
        "#Class-4- Above age 1326.30 are outliers\n",
        "\n",
        "def area_mean(dataframe):\n",
        "    dataframe.loc[dataframe['area_mean'] <= 420.3, 'area_mean'] = 1\n",
        "    dataframe.loc[(dataframe['area_mean'] > 420.3) & (dataframe['area_mean'] <= 782.7), 'area_mean'] = 2\n",
        "    dataframe.loc[(dataframe['area_mean'] > 782.7) & (dataframe['area_mean'] <= 1326.30), 'area_mean'] = 3\n",
        "    dataframe.loc[(dataframe['area_mean'] > 1326.30) & (dataframe['area_mean'] <= 2501), 'area_mean'] = 4\n",
        "           \n",
        "    return dataframe\n",
        "area_mean(area);"
      ],
      "execution_count": 0,
      "outputs": []
    },
    {
      "cell_type": "code",
      "metadata": {
        "id": "_hdjg9koxrbq",
        "colab_type": "code",
        "colab": {}
      },
      "source": [
        "#1º Quartile:  515.3\n",
        "#2º Quartile:  686.5\n",
        "#3º Quartile:  1084.0\n",
        "#4º Quartile:  4254.0\n",
        "#Above:  1937.0500000000002 are outliers\n",
        "#Max is 4254\n",
        "#Class 1- 25% lies below 515.3\n",
        "#Class-2- 50% lies between 515.3 and 1084\n",
        "#Class-3- Lies between 1084 and 1937.05\n",
        "#Class-4- Above age 1937.05 are outliers\n",
        "\n",
        "def area_worst(dataframe):\n",
        "    dataframe.loc[dataframe['area_worst'] <= 515.3, 'area_worst'] = 1\n",
        "    dataframe.loc[(dataframe['area_worst'] > 515.3) & (dataframe['area_worst'] <= 1084), 'area_worst'] = 2\n",
        "    dataframe.loc[(dataframe['area_worst'] > 1084) & (dataframe['area_worst'] <= 1937.05), 'area_worst'] = 3\n",
        "    dataframe.loc[(dataframe['area_worst'] > 1937.05) & (dataframe['area_worst'] <= 4254), 'area_worst'] = 4\n",
        "           \n",
        "    return dataframe\n",
        "area_worst(area);"
      ],
      "execution_count": 0,
      "outputs": []
    },
    {
      "cell_type": "code",
      "metadata": {
        "id": "-2CnOHLVxrW9",
        "colab_type": "code",
        "colab": {
          "base_uri": "https://localhost:8080/",
          "height": 204
        },
        "outputId": "3aaff733-e099-4c3d-b135-ed602ac28129"
      },
      "source": [
        "area.head()"
      ],
      "execution_count": 29,
      "outputs": [
        {
          "output_type": "execute_result",
          "data": {
            "text/html": [
              "<div>\n",
              "<style scoped>\n",
              "    .dataframe tbody tr th:only-of-type {\n",
              "        vertical-align: middle;\n",
              "    }\n",
              "\n",
              "    .dataframe tbody tr th {\n",
              "        vertical-align: top;\n",
              "    }\n",
              "\n",
              "    .dataframe thead th {\n",
              "        text-align: right;\n",
              "    }\n",
              "</style>\n",
              "<table border=\"1\" class=\"dataframe\">\n",
              "  <thead>\n",
              "    <tr style=\"text-align: right;\">\n",
              "      <th></th>\n",
              "      <th>area_mean</th>\n",
              "      <th>area_se</th>\n",
              "      <th>area_worst</th>\n",
              "    </tr>\n",
              "  </thead>\n",
              "  <tbody>\n",
              "    <tr>\n",
              "      <th>0</th>\n",
              "      <td>3.0</td>\n",
              "      <td>153.40</td>\n",
              "      <td>4.0</td>\n",
              "    </tr>\n",
              "    <tr>\n",
              "      <th>1</th>\n",
              "      <td>3.0</td>\n",
              "      <td>74.08</td>\n",
              "      <td>4.0</td>\n",
              "    </tr>\n",
              "    <tr>\n",
              "      <th>2</th>\n",
              "      <td>3.0</td>\n",
              "      <td>94.03</td>\n",
              "      <td>3.0</td>\n",
              "    </tr>\n",
              "    <tr>\n",
              "      <th>3</th>\n",
              "      <td>1.0</td>\n",
              "      <td>27.23</td>\n",
              "      <td>2.0</td>\n",
              "    </tr>\n",
              "    <tr>\n",
              "      <th>4</th>\n",
              "      <td>3.0</td>\n",
              "      <td>94.44</td>\n",
              "      <td>3.0</td>\n",
              "    </tr>\n",
              "  </tbody>\n",
              "</table>\n",
              "</div>"
            ],
            "text/plain": [
              "   area_mean  area_se  area_worst\n",
              "0        3.0   153.40         4.0\n",
              "1        3.0    74.08         4.0\n",
              "2        3.0    94.03         3.0\n",
              "3        1.0    27.23         2.0\n",
              "4        3.0    94.44         3.0"
            ]
          },
          "metadata": {
            "tags": []
          },
          "execution_count": 29
        }
      ]
    },
    {
      "cell_type": "code",
      "metadata": {
        "id": "IIQy34DC_0Ik",
        "colab_type": "code",
        "outputId": "0557c2bf-2496-495f-962f-cb9ad97ccfe0",
        "colab": {
          "base_uri": "https://localhost:8080/",
          "height": 204
        }
      },
      "source": [
        "smoothness = can_data.iloc[: , [6,16,26]]\n",
        "smoothness.head()"
      ],
      "execution_count": 30,
      "outputs": [
        {
          "output_type": "execute_result",
          "data": {
            "text/html": [
              "<div>\n",
              "<style scoped>\n",
              "    .dataframe tbody tr th:only-of-type {\n",
              "        vertical-align: middle;\n",
              "    }\n",
              "\n",
              "    .dataframe tbody tr th {\n",
              "        vertical-align: top;\n",
              "    }\n",
              "\n",
              "    .dataframe thead th {\n",
              "        text-align: right;\n",
              "    }\n",
              "</style>\n",
              "<table border=\"1\" class=\"dataframe\">\n",
              "  <thead>\n",
              "    <tr style=\"text-align: right;\">\n",
              "      <th></th>\n",
              "      <th>smoothness_mean</th>\n",
              "      <th>smoothness_se</th>\n",
              "      <th>smoothness_worst</th>\n",
              "    </tr>\n",
              "  </thead>\n",
              "  <tbody>\n",
              "    <tr>\n",
              "      <th>0</th>\n",
              "      <td>0.11840</td>\n",
              "      <td>0.006399</td>\n",
              "      <td>0.1622</td>\n",
              "    </tr>\n",
              "    <tr>\n",
              "      <th>1</th>\n",
              "      <td>0.08474</td>\n",
              "      <td>0.005225</td>\n",
              "      <td>0.1238</td>\n",
              "    </tr>\n",
              "    <tr>\n",
              "      <th>2</th>\n",
              "      <td>0.10960</td>\n",
              "      <td>0.006150</td>\n",
              "      <td>0.1444</td>\n",
              "    </tr>\n",
              "    <tr>\n",
              "      <th>3</th>\n",
              "      <td>0.14250</td>\n",
              "      <td>0.009110</td>\n",
              "      <td>0.2098</td>\n",
              "    </tr>\n",
              "    <tr>\n",
              "      <th>4</th>\n",
              "      <td>0.10030</td>\n",
              "      <td>0.011490</td>\n",
              "      <td>0.1374</td>\n",
              "    </tr>\n",
              "  </tbody>\n",
              "</table>\n",
              "</div>"
            ],
            "text/plain": [
              "   smoothness_mean  smoothness_se  smoothness_worst\n",
              "0          0.11840       0.006399            0.1622\n",
              "1          0.08474       0.005225            0.1238\n",
              "2          0.10960       0.006150            0.1444\n",
              "3          0.14250       0.009110            0.2098\n",
              "4          0.10030       0.011490            0.1374"
            ]
          },
          "metadata": {
            "tags": []
          },
          "execution_count": 30
        }
      ]
    },
    {
      "cell_type": "code",
      "metadata": {
        "id": "RknSDE3Q2rGD",
        "colab_type": "code",
        "colab": {
          "base_uri": "https://localhost:8080/",
          "height": 238
        },
        "outputId": "a8e7bd8e-e113-42cf-e4bf-8c7e14971e8b"
      },
      "source": [
        "print('Max smoothness_mean: ', smoothness['smoothness_mean'].max())\n",
        "print('Min smoothness_mean: ', smoothness['smoothness_mean'].min())\n",
        "print('Null Values in smoothness_mean: ', smoothness['smoothness_mean'].isnull().any())\n",
        "print('\\n')\n",
        "print('Max smoothness_se: ', smoothness['smoothness_se'].max())\n",
        "print('Min smoothness_se: ', smoothness['smoothness_se'].min())\n",
        "print('Null Values in smoothness_se: ', smoothness['smoothness_se'].isnull().any())\n",
        "print('\\n')\n",
        "print('Max smoothness_worst: ', smoothness['smoothness_worst'].max())\n",
        "print('Min smoothness_worst: ', smoothness['smoothness_worst'].min())\n",
        "print('Null Values in smoothness_worst: ', smoothness['smoothness_worst'].isnull().any())"
      ],
      "execution_count": 31,
      "outputs": [
        {
          "output_type": "stream",
          "text": [
            "Max smoothness_mean:  0.1634\n",
            "Min smoothness_mean:  0.052629999999999996\n",
            "Null Values in smoothness_mean:  False\n",
            "\n",
            "\n",
            "Max smoothness_se:  0.03113\n",
            "Min smoothness_se:  0.001713\n",
            "Null Values in smoothness_se:  False\n",
            "\n",
            "\n",
            "Max smoothness_worst:  0.2226\n",
            "Min smoothness_worst:  0.07117000000000001\n",
            "Null Values in smoothness_worst:  False\n"
          ],
          "name": "stdout"
        }
      ]
    },
    {
      "cell_type": "code",
      "metadata": {
        "id": "FRqbrX6q2sMM",
        "colab_type": "code",
        "colab": {
          "base_uri": "https://localhost:8080/",
          "height": 391
        },
        "outputId": "11bbe997-63be-4d42-8ee5-2ff6727ac8ab"
      },
      "source": [
        "# Quartiles\n",
        "print('Quantiles for smoothness_mean')\n",
        "print('1º Quartile: ', smoothness['smoothness_mean'].quantile(q = 0.25))\n",
        "print('2º Quartile: ', smoothness['smoothness_mean'].quantile(q = 0.50))\n",
        "print('3º Quartile: ', smoothness['smoothness_mean'].quantile(q = 0.75))\n",
        "print('4º Quartile: ', smoothness['smoothness_mean'].quantile(q = 1.00))\n",
        "#Calculate the outliers:\n",
        "  # Interquartile range, IQR = Q3 - Q1\n",
        "  # lower 1.5*IQR whisker = Q1 - 1.5 * IQR \n",
        "  # Upper 1.5*IQR whisker = Q3 + 1.5 * IQR\n",
        "    \n",
        "print('Above: ', smoothness['smoothness_mean'].quantile(q = 0.75) + \n",
        "                      1.5*(smoothness['smoothness_mean'].quantile(q = 0.75) - smoothness['smoothness_mean'].quantile(q = 0.25)), 'are outliers')\n",
        "print('\\n')\n",
        "print('Quantiles for smoothness_se')\n",
        "print('1º Quartile: ', smoothness['smoothness_se'].quantile(q = 0.25))\n",
        "print('2º Quartile: ', smoothness['smoothness_se'].quantile(q = 0.50))\n",
        "print('3º Quartile: ', smoothness['smoothness_se'].quantile(q = 0.75))\n",
        "print('4º Quartile: ', smoothness['smoothness_se'].quantile(q = 1.00))\n",
        "#Calculate the outliers:\n",
        "  # Interquartile range, IQR = Q3 - Q1\n",
        "  # lower 1.5*IQR whisker = Q1 - 1.5 * IQR \n",
        "  # Upper 1.5*IQR whisker = Q3 + 1.5 * IQR\n",
        "    \n",
        "print('Above: ', smoothness['smoothness_se'].quantile(q = 0.75) + \n",
        "                      1.5*(smoothness['smoothness_se'].quantile(q = 0.75) - smoothness['smoothness_se'].quantile(q = 0.25)), 'are outliers')\n",
        "print('\\n')\n",
        "print('Quantiles for smoothness_worst')\n",
        "print('1º Quartile: ', smoothness['smoothness_worst'].quantile(q = 0.25))\n",
        "print('2º Quartile: ', smoothness['smoothness_worst'].quantile(q = 0.50))\n",
        "print('3º Quartile: ', smoothness['smoothness_worst'].quantile(q = 0.75))\n",
        "print('4º Quartile: ', smoothness['smoothness_worst'].quantile(q = 1.00))\n",
        "#Calculate the outliers:\n",
        "  # Interquartile range, IQR = Q3 - Q1\n",
        "  # lower 1.5*IQR whisker = Q1 - 1.5 * IQR \n",
        "  # Upper 1.5*IQR whisker = Q3 + 1.5 * IQR\n",
        "    \n",
        "print('Above: ', smoothness['smoothness_worst'].quantile(q = 0.75) + \n",
        "                      1.5*(smoothness['smoothness_worst'].quantile(q = 0.75) - smoothness['smoothness_worst'].quantile(q = 0.25)), 'are outliers')"
      ],
      "execution_count": 32,
      "outputs": [
        {
          "output_type": "stream",
          "text": [
            "Quantiles for smoothness_mean\n",
            "1º Quartile:  0.08637\n",
            "2º Quartile:  0.09587000000000001\n",
            "3º Quartile:  0.1053\n",
            "4º Quartile:  0.1634\n",
            "Above:  0.133695 are outliers\n",
            "\n",
            "\n",
            "Quantiles for smoothness_se\n",
            "1º Quartile:  0.005169\n",
            "2º Quartile:  0.006379999999999999\n",
            "3º Quartile:  0.008145999999999999\n",
            "4º Quartile:  0.03113\n",
            "Above:  0.012611499999999998 are outliers\n",
            "\n",
            "\n",
            "Quantiles for smoothness_worst\n",
            "1º Quartile:  0.1166\n",
            "2º Quartile:  0.1313\n",
            "3º Quartile:  0.146\n",
            "4º Quartile:  0.2226\n",
            "Above:  0.1901 are outliers\n"
          ],
          "name": "stdout"
        }
      ]
    },
    {
      "cell_type": "code",
      "metadata": {
        "id": "CVbALjjZ_0TB",
        "colab_type": "code",
        "outputId": "b09a7ffc-bc2b-4af9-8316-7a9f8ba4b100",
        "colab": {
          "base_uri": "https://localhost:8080/",
          "height": 204
        }
      },
      "source": [
        "compactness = can_data.iloc[: , [7,17,27]]\n",
        "compactness.head()"
      ],
      "execution_count": 33,
      "outputs": [
        {
          "output_type": "execute_result",
          "data": {
            "text/html": [
              "<div>\n",
              "<style scoped>\n",
              "    .dataframe tbody tr th:only-of-type {\n",
              "        vertical-align: middle;\n",
              "    }\n",
              "\n",
              "    .dataframe tbody tr th {\n",
              "        vertical-align: top;\n",
              "    }\n",
              "\n",
              "    .dataframe thead th {\n",
              "        text-align: right;\n",
              "    }\n",
              "</style>\n",
              "<table border=\"1\" class=\"dataframe\">\n",
              "  <thead>\n",
              "    <tr style=\"text-align: right;\">\n",
              "      <th></th>\n",
              "      <th>compactness_mean</th>\n",
              "      <th>compactness_se</th>\n",
              "      <th>compactness_worst</th>\n",
              "    </tr>\n",
              "  </thead>\n",
              "  <tbody>\n",
              "    <tr>\n",
              "      <th>0</th>\n",
              "      <td>0.27760</td>\n",
              "      <td>0.04904</td>\n",
              "      <td>0.6656</td>\n",
              "    </tr>\n",
              "    <tr>\n",
              "      <th>1</th>\n",
              "      <td>0.07864</td>\n",
              "      <td>0.01308</td>\n",
              "      <td>0.1866</td>\n",
              "    </tr>\n",
              "    <tr>\n",
              "      <th>2</th>\n",
              "      <td>0.15990</td>\n",
              "      <td>0.04006</td>\n",
              "      <td>0.4245</td>\n",
              "    </tr>\n",
              "    <tr>\n",
              "      <th>3</th>\n",
              "      <td>0.28390</td>\n",
              "      <td>0.07458</td>\n",
              "      <td>0.8663</td>\n",
              "    </tr>\n",
              "    <tr>\n",
              "      <th>4</th>\n",
              "      <td>0.13280</td>\n",
              "      <td>0.02461</td>\n",
              "      <td>0.2050</td>\n",
              "    </tr>\n",
              "  </tbody>\n",
              "</table>\n",
              "</div>"
            ],
            "text/plain": [
              "   compactness_mean  compactness_se  compactness_worst\n",
              "0           0.27760         0.04904             0.6656\n",
              "1           0.07864         0.01308             0.1866\n",
              "2           0.15990         0.04006             0.4245\n",
              "3           0.28390         0.07458             0.8663\n",
              "4           0.13280         0.02461             0.2050"
            ]
          },
          "metadata": {
            "tags": []
          },
          "execution_count": 33
        }
      ]
    },
    {
      "cell_type": "code",
      "metadata": {
        "id": "9xXBUfQ55PRb",
        "colab_type": "code",
        "colab": {
          "base_uri": "https://localhost:8080/",
          "height": 238
        },
        "outputId": "86791b13-1545-4154-dbb5-ae0df0c3bae2"
      },
      "source": [
        "print('Max compactness_mean: ', compactness['compactness_mean'].max())\n",
        "print('Min compactness_mean: ', compactness['compactness_mean'].min())\n",
        "print('Null Values in compactness_mean: ', compactness['compactness_mean'].isnull().any())\n",
        "print('\\n')\n",
        "print('Max compactness_se: ', compactness['compactness_se'].max())\n",
        "print('Min compactness_se: ', compactness['compactness_se'].min())\n",
        "print('Null Values in compactness_se: ', compactness['compactness_se'].isnull().any())\n",
        "print('\\n')\n",
        "print('Max compactness_worst: ', compactness['compactness_worst'].max())\n",
        "print('Min compactness_worst: ', compactness['compactness_worst'].min())\n",
        "print('Null Values in compactness_worst: ', compactness['compactness_worst'].isnull().any())"
      ],
      "execution_count": 34,
      "outputs": [
        {
          "output_type": "stream",
          "text": [
            "Max compactness_mean:  0.3454\n",
            "Min compactness_mean:  0.01938\n",
            "Null Values in compactness_mean:  False\n",
            "\n",
            "\n",
            "Max compactness_se:  0.1354\n",
            "Min compactness_se:  0.002252\n",
            "Null Values in compactness_se:  False\n",
            "\n",
            "\n",
            "Max compactness_worst:  1.058\n",
            "Min compactness_worst:  0.02729\n",
            "Null Values in compactness_worst:  False\n"
          ],
          "name": "stdout"
        }
      ]
    },
    {
      "cell_type": "code",
      "metadata": {
        "id": "Dl0VD2ev-XvF",
        "colab_type": "code",
        "colab": {
          "base_uri": "https://localhost:8080/",
          "height": 391
        },
        "outputId": "bc8c387f-e99f-430b-9abc-f723a492b304"
      },
      "source": [
        "# Quartiles\n",
        "print('Quantiles for compactness_mean')\n",
        "print('1º Quartile: ', compactness['compactness_mean'].quantile(q = 0.25))\n",
        "print('2º Quartile: ', compactness['compactness_mean'].quantile(q = 0.50))\n",
        "print('3º Quartile: ', compactness['compactness_mean'].quantile(q = 0.75))\n",
        "print('4º Quartile: ', compactness['compactness_mean'].quantile(q = 1.00))\n",
        "#Calculate the outliers:\n",
        "  # Interquartile range, IQR = Q3 - Q1\n",
        "  # lower 1.5*IQR whisker = Q1 - 1.5 * IQR \n",
        "  # Upper 1.5*IQR whisker = Q3 + 1.5 * IQR\n",
        "    \n",
        "print('Above: ', compactness['compactness_mean'].quantile(q = 0.75) + \n",
        "                      1.5*(compactness['compactness_mean'].quantile(q = 0.75) - compactness['compactness_mean'].quantile(q = 0.25)), 'are outliers')\n",
        "print('\\n')\n",
        "print('Quantiles for compactness_se')\n",
        "print('1º Quartile: ', compactness['compactness_se'].quantile(q = 0.25))\n",
        "print('2º Quartile: ', compactness['compactness_se'].quantile(q = 0.50))\n",
        "print('3º Quartile: ', compactness['compactness_se'].quantile(q = 0.75))\n",
        "print('4º Quartile: ', compactness['compactness_se'].quantile(q = 1.00))\n",
        "#Calculate the outliers:\n",
        "  # Interquartile range, IQR = Q3 - Q1\n",
        "  # lower 1.5*IQR whisker = Q1 - 1.5 * IQR \n",
        "  # Upper 1.5*IQR whisker = Q3 + 1.5 * IQR\n",
        "    \n",
        "print('Above: ', compactness['compactness_se'].quantile(q = 0.75) + \n",
        "                      1.5*(compactness['compactness_se'].quantile(q = 0.75) - compactness['compactness_se'].quantile(q = 0.25)), 'are outliers')\n",
        "print('\\n')\n",
        "print('Quantiles for compactness_worst')\n",
        "print('1º Quartile: ', compactness['compactness_worst'].quantile(q = 0.25))\n",
        "print('2º Quartile: ', compactness['compactness_worst'].quantile(q = 0.50))\n",
        "print('3º Quartile: ', compactness['compactness_worst'].quantile(q = 0.75))\n",
        "print('4º Quartile: ', compactness['compactness_worst'].quantile(q = 1.00))\n",
        "#Calculate the outliers:\n",
        "  # Interquartile range, IQR = Q3 - Q1\n",
        "  # lower 1.5*IQR whisker = Q1 - 1.5 * IQR \n",
        "  # Upper 1.5*IQR whisker = Q3 + 1.5 * IQR\n",
        "    \n",
        "print('Above: ', compactness['compactness_worst'].quantile(q = 0.75) + \n",
        "                      1.5*(compactness['compactness_worst'].quantile(q = 0.75) - compactness['compactness_worst'].quantile(q = 0.25)), 'are outliers')"
      ],
      "execution_count": 35,
      "outputs": [
        {
          "output_type": "stream",
          "text": [
            "Quantiles for compactness_mean\n",
            "1º Quartile:  0.06492\n",
            "2º Quartile:  0.09262999999999999\n",
            "3º Quartile:  0.1304\n",
            "4º Quartile:  0.3454\n",
            "Above:  0.22861999999999996 are outliers\n",
            "\n",
            "\n",
            "Quantiles for compactness_se\n",
            "1º Quartile:  0.013080000000000001\n",
            "2º Quartile:  0.02045\n",
            "3º Quartile:  0.03245\n",
            "4º Quartile:  0.1354\n",
            "Above:  0.061505 are outliers\n",
            "\n",
            "\n",
            "Quantiles for compactness_worst\n",
            "1º Quartile:  0.1472\n",
            "2º Quartile:  0.2119\n",
            "3º Quartile:  0.3391\n",
            "4º Quartile:  1.058\n",
            "Above:  0.6269500000000001 are outliers\n"
          ],
          "name": "stdout"
        }
      ]
    },
    {
      "cell_type": "code",
      "metadata": {
        "id": "qLEoa7kv_0dw",
        "colab_type": "code",
        "outputId": "cb8ffc38-0274-4707-b0c9-ff512be9f42a",
        "colab": {
          "base_uri": "https://localhost:8080/",
          "height": 204
        }
      },
      "source": [
        "concavity = can_data.iloc[: , [8,18,28]]\n",
        "concavity.head()"
      ],
      "execution_count": 36,
      "outputs": [
        {
          "output_type": "execute_result",
          "data": {
            "text/html": [
              "<div>\n",
              "<style scoped>\n",
              "    .dataframe tbody tr th:only-of-type {\n",
              "        vertical-align: middle;\n",
              "    }\n",
              "\n",
              "    .dataframe tbody tr th {\n",
              "        vertical-align: top;\n",
              "    }\n",
              "\n",
              "    .dataframe thead th {\n",
              "        text-align: right;\n",
              "    }\n",
              "</style>\n",
              "<table border=\"1\" class=\"dataframe\">\n",
              "  <thead>\n",
              "    <tr style=\"text-align: right;\">\n",
              "      <th></th>\n",
              "      <th>concavity_mean</th>\n",
              "      <th>concavity_se</th>\n",
              "      <th>concavity_worst</th>\n",
              "    </tr>\n",
              "  </thead>\n",
              "  <tbody>\n",
              "    <tr>\n",
              "      <th>0</th>\n",
              "      <td>0.3001</td>\n",
              "      <td>0.05373</td>\n",
              "      <td>0.7119</td>\n",
              "    </tr>\n",
              "    <tr>\n",
              "      <th>1</th>\n",
              "      <td>0.0869</td>\n",
              "      <td>0.01860</td>\n",
              "      <td>0.2416</td>\n",
              "    </tr>\n",
              "    <tr>\n",
              "      <th>2</th>\n",
              "      <td>0.1974</td>\n",
              "      <td>0.03832</td>\n",
              "      <td>0.4504</td>\n",
              "    </tr>\n",
              "    <tr>\n",
              "      <th>3</th>\n",
              "      <td>0.2414</td>\n",
              "      <td>0.05661</td>\n",
              "      <td>0.6869</td>\n",
              "    </tr>\n",
              "    <tr>\n",
              "      <th>4</th>\n",
              "      <td>0.1980</td>\n",
              "      <td>0.05688</td>\n",
              "      <td>0.4000</td>\n",
              "    </tr>\n",
              "  </tbody>\n",
              "</table>\n",
              "</div>"
            ],
            "text/plain": [
              "   concavity_mean  concavity_se  concavity_worst\n",
              "0          0.3001       0.05373           0.7119\n",
              "1          0.0869       0.01860           0.2416\n",
              "2          0.1974       0.03832           0.4504\n",
              "3          0.2414       0.05661           0.6869\n",
              "4          0.1980       0.05688           0.4000"
            ]
          },
          "metadata": {
            "tags": []
          },
          "execution_count": 36
        }
      ]
    },
    {
      "cell_type": "code",
      "metadata": {
        "id": "LJfeCMEl_0md",
        "colab_type": "code",
        "outputId": "cda61d88-dcc2-44c1-e682-7c5fc47c5d9b",
        "colab": {
          "base_uri": "https://localhost:8080/",
          "height": 204
        }
      },
      "source": [
        "concave_points = can_data.iloc[: , [9,19,29]]\n",
        "concave_points.head()"
      ],
      "execution_count": 37,
      "outputs": [
        {
          "output_type": "execute_result",
          "data": {
            "text/html": [
              "<div>\n",
              "<style scoped>\n",
              "    .dataframe tbody tr th:only-of-type {\n",
              "        vertical-align: middle;\n",
              "    }\n",
              "\n",
              "    .dataframe tbody tr th {\n",
              "        vertical-align: top;\n",
              "    }\n",
              "\n",
              "    .dataframe thead th {\n",
              "        text-align: right;\n",
              "    }\n",
              "</style>\n",
              "<table border=\"1\" class=\"dataframe\">\n",
              "  <thead>\n",
              "    <tr style=\"text-align: right;\">\n",
              "      <th></th>\n",
              "      <th>concave points_mean</th>\n",
              "      <th>concave points_se</th>\n",
              "      <th>concave points_worst</th>\n",
              "    </tr>\n",
              "  </thead>\n",
              "  <tbody>\n",
              "    <tr>\n",
              "      <th>0</th>\n",
              "      <td>0.14710</td>\n",
              "      <td>0.01587</td>\n",
              "      <td>0.2654</td>\n",
              "    </tr>\n",
              "    <tr>\n",
              "      <th>1</th>\n",
              "      <td>0.07017</td>\n",
              "      <td>0.01340</td>\n",
              "      <td>0.1860</td>\n",
              "    </tr>\n",
              "    <tr>\n",
              "      <th>2</th>\n",
              "      <td>0.12790</td>\n",
              "      <td>0.02058</td>\n",
              "      <td>0.2430</td>\n",
              "    </tr>\n",
              "    <tr>\n",
              "      <th>3</th>\n",
              "      <td>0.10520</td>\n",
              "      <td>0.01867</td>\n",
              "      <td>0.2575</td>\n",
              "    </tr>\n",
              "    <tr>\n",
              "      <th>4</th>\n",
              "      <td>0.10430</td>\n",
              "      <td>0.01885</td>\n",
              "      <td>0.1625</td>\n",
              "    </tr>\n",
              "  </tbody>\n",
              "</table>\n",
              "</div>"
            ],
            "text/plain": [
              "   concave points_mean  concave points_se  concave points_worst\n",
              "0              0.14710            0.01587                0.2654\n",
              "1              0.07017            0.01340                0.1860\n",
              "2              0.12790            0.02058                0.2430\n",
              "3              0.10520            0.01867                0.2575\n",
              "4              0.10430            0.01885                0.1625"
            ]
          },
          "metadata": {
            "tags": []
          },
          "execution_count": 37
        }
      ]
    },
    {
      "cell_type": "code",
      "metadata": {
        "id": "UuepUH6O_z2E",
        "colab_type": "code",
        "outputId": "1ad8f2fe-d490-498c-908f-4858843b52e0",
        "colab": {
          "base_uri": "https://localhost:8080/",
          "height": 204
        }
      },
      "source": [
        "symmetry = can_data.iloc[: , [10,20,30]]\n",
        "symmetry.head()"
      ],
      "execution_count": 38,
      "outputs": [
        {
          "output_type": "execute_result",
          "data": {
            "text/html": [
              "<div>\n",
              "<style scoped>\n",
              "    .dataframe tbody tr th:only-of-type {\n",
              "        vertical-align: middle;\n",
              "    }\n",
              "\n",
              "    .dataframe tbody tr th {\n",
              "        vertical-align: top;\n",
              "    }\n",
              "\n",
              "    .dataframe thead th {\n",
              "        text-align: right;\n",
              "    }\n",
              "</style>\n",
              "<table border=\"1\" class=\"dataframe\">\n",
              "  <thead>\n",
              "    <tr style=\"text-align: right;\">\n",
              "      <th></th>\n",
              "      <th>symmetry_mean</th>\n",
              "      <th>symmetry_se</th>\n",
              "      <th>symmetry_worst</th>\n",
              "    </tr>\n",
              "  </thead>\n",
              "  <tbody>\n",
              "    <tr>\n",
              "      <th>0</th>\n",
              "      <td>0.2419</td>\n",
              "      <td>0.03003</td>\n",
              "      <td>0.4601</td>\n",
              "    </tr>\n",
              "    <tr>\n",
              "      <th>1</th>\n",
              "      <td>0.1812</td>\n",
              "      <td>0.01389</td>\n",
              "      <td>0.2750</td>\n",
              "    </tr>\n",
              "    <tr>\n",
              "      <th>2</th>\n",
              "      <td>0.2069</td>\n",
              "      <td>0.02250</td>\n",
              "      <td>0.3613</td>\n",
              "    </tr>\n",
              "    <tr>\n",
              "      <th>3</th>\n",
              "      <td>0.2597</td>\n",
              "      <td>0.05963</td>\n",
              "      <td>0.6638</td>\n",
              "    </tr>\n",
              "    <tr>\n",
              "      <th>4</th>\n",
              "      <td>0.1809</td>\n",
              "      <td>0.01756</td>\n",
              "      <td>0.2364</td>\n",
              "    </tr>\n",
              "  </tbody>\n",
              "</table>\n",
              "</div>"
            ],
            "text/plain": [
              "   symmetry_mean  symmetry_se  symmetry_worst\n",
              "0         0.2419      0.03003          0.4601\n",
              "1         0.1812      0.01389          0.2750\n",
              "2         0.2069      0.02250          0.3613\n",
              "3         0.2597      0.05963          0.6638\n",
              "4         0.1809      0.01756          0.2364"
            ]
          },
          "metadata": {
            "tags": []
          },
          "execution_count": 38
        }
      ]
    },
    {
      "cell_type": "code",
      "metadata": {
        "id": "Kn79n1Bp_zeP",
        "colab_type": "code",
        "outputId": "9be02ffc-8345-40d7-8272-f6c6b7a0f313",
        "colab": {
          "base_uri": "https://localhost:8080/",
          "height": 204
        }
      },
      "source": [
        "fractal_dim = can_data.iloc[: , [11,21,31]]\n",
        "fractal_dim.head()"
      ],
      "execution_count": 39,
      "outputs": [
        {
          "output_type": "execute_result",
          "data": {
            "text/html": [
              "<div>\n",
              "<style scoped>\n",
              "    .dataframe tbody tr th:only-of-type {\n",
              "        vertical-align: middle;\n",
              "    }\n",
              "\n",
              "    .dataframe tbody tr th {\n",
              "        vertical-align: top;\n",
              "    }\n",
              "\n",
              "    .dataframe thead th {\n",
              "        text-align: right;\n",
              "    }\n",
              "</style>\n",
              "<table border=\"1\" class=\"dataframe\">\n",
              "  <thead>\n",
              "    <tr style=\"text-align: right;\">\n",
              "      <th></th>\n",
              "      <th>fractal_dimension_mean</th>\n",
              "      <th>fractal_dimension_se</th>\n",
              "      <th>fractal_dimension_worst</th>\n",
              "    </tr>\n",
              "  </thead>\n",
              "  <tbody>\n",
              "    <tr>\n",
              "      <th>0</th>\n",
              "      <td>0.07871</td>\n",
              "      <td>0.006193</td>\n",
              "      <td>0.11890</td>\n",
              "    </tr>\n",
              "    <tr>\n",
              "      <th>1</th>\n",
              "      <td>0.05667</td>\n",
              "      <td>0.003532</td>\n",
              "      <td>0.08902</td>\n",
              "    </tr>\n",
              "    <tr>\n",
              "      <th>2</th>\n",
              "      <td>0.05999</td>\n",
              "      <td>0.004571</td>\n",
              "      <td>0.08758</td>\n",
              "    </tr>\n",
              "    <tr>\n",
              "      <th>3</th>\n",
              "      <td>0.09744</td>\n",
              "      <td>0.009208</td>\n",
              "      <td>0.17300</td>\n",
              "    </tr>\n",
              "    <tr>\n",
              "      <th>4</th>\n",
              "      <td>0.05883</td>\n",
              "      <td>0.005115</td>\n",
              "      <td>0.07678</td>\n",
              "    </tr>\n",
              "  </tbody>\n",
              "</table>\n",
              "</div>"
            ],
            "text/plain": [
              "   fractal_dimension_mean  fractal_dimension_se  fractal_dimension_worst\n",
              "0                 0.07871              0.006193                  0.11890\n",
              "1                 0.05667              0.003532                  0.08902\n",
              "2                 0.05999              0.004571                  0.08758\n",
              "3                 0.09744              0.009208                  0.17300\n",
              "4                 0.05883              0.005115                  0.07678"
            ]
          },
          "metadata": {
            "tags": []
          },
          "execution_count": 39
        }
      ]
    },
    {
      "cell_type": "code",
      "metadata": {
        "id": "YuvvaXRqjfdn",
        "colab_type": "code",
        "colab": {
          "base_uri": "https://localhost:8080/",
          "height": 34
        },
        "outputId": "2a4fd266-61c1-41e3-bc4a-4daecca9f142"
      },
      "source": [
        "final= pd.concat([radius,texture,perimeter,area,smoothness,compactness,concavity,concave_points,symmetry,fractal_dim], axis = 1)\n",
        "final.shape"
      ],
      "execution_count": 40,
      "outputs": [
        {
          "output_type": "execute_result",
          "data": {
            "text/plain": [
              "(569, 30)"
            ]
          },
          "metadata": {
            "tags": []
          },
          "execution_count": 40
        }
      ]
    },
    {
      "cell_type": "code",
      "metadata": {
        "id": "Lh-vvkHfkhjV",
        "colab_type": "code",
        "colab": {
          "base_uri": "https://localhost:8080/",
          "height": 241
        },
        "outputId": "6f982bca-7a6a-4110-cf24-68c077a72601"
      },
      "source": [
        "final.head()"
      ],
      "execution_count": 41,
      "outputs": [
        {
          "output_type": "execute_result",
          "data": {
            "text/html": [
              "<div>\n",
              "<style scoped>\n",
              "    .dataframe tbody tr th:only-of-type {\n",
              "        vertical-align: middle;\n",
              "    }\n",
              "\n",
              "    .dataframe tbody tr th {\n",
              "        vertical-align: top;\n",
              "    }\n",
              "\n",
              "    .dataframe thead th {\n",
              "        text-align: right;\n",
              "    }\n",
              "</style>\n",
              "<table border=\"1\" class=\"dataframe\">\n",
              "  <thead>\n",
              "    <tr style=\"text-align: right;\">\n",
              "      <th></th>\n",
              "      <th>radius_mean</th>\n",
              "      <th>radius_se</th>\n",
              "      <th>radius_worst</th>\n",
              "      <th>texture_mean</th>\n",
              "      <th>texture_se</th>\n",
              "      <th>texture_worst</th>\n",
              "      <th>perimeter_mean</th>\n",
              "      <th>perimeter_se</th>\n",
              "      <th>perimeter_worst</th>\n",
              "      <th>area_mean</th>\n",
              "      <th>area_se</th>\n",
              "      <th>area_worst</th>\n",
              "      <th>smoothness_mean</th>\n",
              "      <th>smoothness_se</th>\n",
              "      <th>smoothness_worst</th>\n",
              "      <th>compactness_mean</th>\n",
              "      <th>compactness_se</th>\n",
              "      <th>compactness_worst</th>\n",
              "      <th>concavity_mean</th>\n",
              "      <th>concavity_se</th>\n",
              "      <th>concavity_worst</th>\n",
              "      <th>concave points_mean</th>\n",
              "      <th>concave points_se</th>\n",
              "      <th>concave points_worst</th>\n",
              "      <th>symmetry_mean</th>\n",
              "      <th>symmetry_se</th>\n",
              "      <th>symmetry_worst</th>\n",
              "      <th>fractal_dimension_mean</th>\n",
              "      <th>fractal_dimension_se</th>\n",
              "      <th>fractal_dimension_worst</th>\n",
              "    </tr>\n",
              "  </thead>\n",
              "  <tbody>\n",
              "    <tr>\n",
              "      <th>0</th>\n",
              "      <td>3.0</td>\n",
              "      <td>1.0950</td>\n",
              "      <td>3.0</td>\n",
              "      <td>1.0</td>\n",
              "      <td>0.9053</td>\n",
              "      <td>1.0</td>\n",
              "      <td>3.0</td>\n",
              "      <td>8.589</td>\n",
              "      <td>3.0</td>\n",
              "      <td>3.0</td>\n",
              "      <td>153.40</td>\n",
              "      <td>4.0</td>\n",
              "      <td>0.11840</td>\n",
              "      <td>0.006399</td>\n",
              "      <td>0.1622</td>\n",
              "      <td>0.27760</td>\n",
              "      <td>0.04904</td>\n",
              "      <td>0.6656</td>\n",
              "      <td>0.3001</td>\n",
              "      <td>0.05373</td>\n",
              "      <td>0.7119</td>\n",
              "      <td>0.14710</td>\n",
              "      <td>0.01587</td>\n",
              "      <td>0.2654</td>\n",
              "      <td>0.2419</td>\n",
              "      <td>0.03003</td>\n",
              "      <td>0.4601</td>\n",
              "      <td>0.07871</td>\n",
              "      <td>0.006193</td>\n",
              "      <td>0.11890</td>\n",
              "    </tr>\n",
              "    <tr>\n",
              "      <th>1</th>\n",
              "      <td>3.0</td>\n",
              "      <td>0.5435</td>\n",
              "      <td>3.0</td>\n",
              "      <td>2.0</td>\n",
              "      <td>0.7339</td>\n",
              "      <td>2.0</td>\n",
              "      <td>3.0</td>\n",
              "      <td>3.398</td>\n",
              "      <td>3.0</td>\n",
              "      <td>3.0</td>\n",
              "      <td>74.08</td>\n",
              "      <td>4.0</td>\n",
              "      <td>0.08474</td>\n",
              "      <td>0.005225</td>\n",
              "      <td>0.1238</td>\n",
              "      <td>0.07864</td>\n",
              "      <td>0.01308</td>\n",
              "      <td>0.1866</td>\n",
              "      <td>0.0869</td>\n",
              "      <td>0.01860</td>\n",
              "      <td>0.2416</td>\n",
              "      <td>0.07017</td>\n",
              "      <td>0.01340</td>\n",
              "      <td>0.1860</td>\n",
              "      <td>0.1812</td>\n",
              "      <td>0.01389</td>\n",
              "      <td>0.2750</td>\n",
              "      <td>0.05667</td>\n",
              "      <td>0.003532</td>\n",
              "      <td>0.08902</td>\n",
              "    </tr>\n",
              "    <tr>\n",
              "      <th>2</th>\n",
              "      <td>3.0</td>\n",
              "      <td>0.7456</td>\n",
              "      <td>3.0</td>\n",
              "      <td>2.0</td>\n",
              "      <td>0.7869</td>\n",
              "      <td>2.0</td>\n",
              "      <td>3.0</td>\n",
              "      <td>4.585</td>\n",
              "      <td>3.0</td>\n",
              "      <td>3.0</td>\n",
              "      <td>94.03</td>\n",
              "      <td>3.0</td>\n",
              "      <td>0.10960</td>\n",
              "      <td>0.006150</td>\n",
              "      <td>0.1444</td>\n",
              "      <td>0.15990</td>\n",
              "      <td>0.04006</td>\n",
              "      <td>0.4245</td>\n",
              "      <td>0.1974</td>\n",
              "      <td>0.03832</td>\n",
              "      <td>0.4504</td>\n",
              "      <td>0.12790</td>\n",
              "      <td>0.02058</td>\n",
              "      <td>0.2430</td>\n",
              "      <td>0.2069</td>\n",
              "      <td>0.02250</td>\n",
              "      <td>0.3613</td>\n",
              "      <td>0.05999</td>\n",
              "      <td>0.004571</td>\n",
              "      <td>0.08758</td>\n",
              "    </tr>\n",
              "    <tr>\n",
              "      <th>3</th>\n",
              "      <td>1.0</td>\n",
              "      <td>0.4956</td>\n",
              "      <td>2.0</td>\n",
              "      <td>2.0</td>\n",
              "      <td>1.1560</td>\n",
              "      <td>2.0</td>\n",
              "      <td>2.0</td>\n",
              "      <td>3.445</td>\n",
              "      <td>2.0</td>\n",
              "      <td>1.0</td>\n",
              "      <td>27.23</td>\n",
              "      <td>2.0</td>\n",
              "      <td>0.14250</td>\n",
              "      <td>0.009110</td>\n",
              "      <td>0.2098</td>\n",
              "      <td>0.28390</td>\n",
              "      <td>0.07458</td>\n",
              "      <td>0.8663</td>\n",
              "      <td>0.2414</td>\n",
              "      <td>0.05661</td>\n",
              "      <td>0.6869</td>\n",
              "      <td>0.10520</td>\n",
              "      <td>0.01867</td>\n",
              "      <td>0.2575</td>\n",
              "      <td>0.2597</td>\n",
              "      <td>0.05963</td>\n",
              "      <td>0.6638</td>\n",
              "      <td>0.09744</td>\n",
              "      <td>0.009208</td>\n",
              "      <td>0.17300</td>\n",
              "    </tr>\n",
              "    <tr>\n",
              "      <th>4</th>\n",
              "      <td>3.0</td>\n",
              "      <td>0.7572</td>\n",
              "      <td>3.0</td>\n",
              "      <td>1.0</td>\n",
              "      <td>0.7813</td>\n",
              "      <td>1.0</td>\n",
              "      <td>3.0</td>\n",
              "      <td>5.438</td>\n",
              "      <td>3.0</td>\n",
              "      <td>3.0</td>\n",
              "      <td>94.44</td>\n",
              "      <td>3.0</td>\n",
              "      <td>0.10030</td>\n",
              "      <td>0.011490</td>\n",
              "      <td>0.1374</td>\n",
              "      <td>0.13280</td>\n",
              "      <td>0.02461</td>\n",
              "      <td>0.2050</td>\n",
              "      <td>0.1980</td>\n",
              "      <td>0.05688</td>\n",
              "      <td>0.4000</td>\n",
              "      <td>0.10430</td>\n",
              "      <td>0.01885</td>\n",
              "      <td>0.1625</td>\n",
              "      <td>0.1809</td>\n",
              "      <td>0.01756</td>\n",
              "      <td>0.2364</td>\n",
              "      <td>0.05883</td>\n",
              "      <td>0.005115</td>\n",
              "      <td>0.07678</td>\n",
              "    </tr>\n",
              "  </tbody>\n",
              "</table>\n",
              "</div>"
            ],
            "text/plain": [
              "   radius_mean  radius_se  ...  fractal_dimension_se  fractal_dimension_worst\n",
              "0          3.0     1.0950  ...              0.006193                  0.11890\n",
              "1          3.0     0.5435  ...              0.003532                  0.08902\n",
              "2          3.0     0.7456  ...              0.004571                  0.08758\n",
              "3          1.0     0.4956  ...              0.009208                  0.17300\n",
              "4          3.0     0.7572  ...              0.005115                  0.07678\n",
              "\n",
              "[5 rows x 30 columns]"
            ]
          },
          "metadata": {
            "tags": []
          },
          "execution_count": 41
        }
      ]
    },
    {
      "cell_type": "code",
      "metadata": {
        "id": "YSAq-GdNiRjd",
        "colab_type": "code",
        "colab": {}
      },
      "source": [
        "from sklearn.model_selection import train_test_split\n",
        "X_train, X_test, y_train, y_test = train_test_split(final, y, test_size = 0.2)\n",
        "\n",
        "from sklearn.model_selection import KFold\n",
        "from sklearn.metrics import confusion_matrix, accuracy_score\n",
        "k_fold = KFold(n_splits=20, shuffle=True, random_state=0)"
      ],
      "execution_count": 0,
      "outputs": []
    },
    {
      "cell_type": "code",
      "metadata": {
        "id": "zA40UUbbWSz-",
        "colab_type": "code",
        "outputId": "939e43c5-8042-4d3b-f61f-41b3cbc3b74b",
        "colab": {
          "base_uri": "https://localhost:8080/",
          "height": 68
        }
      },
      "source": [
        "pd.value_counts(y_train['M'])"
      ],
      "execution_count": 43,
      "outputs": [
        {
          "output_type": "execute_result",
          "data": {
            "text/plain": [
              "0    290\n",
              "1    165\n",
              "Name: M, dtype: int64"
            ]
          },
          "metadata": {
            "tags": []
          },
          "execution_count": 43
        }
      ]
    },
    {
      "cell_type": "code",
      "metadata": {
        "id": "PGjaoQrbWTFX",
        "colab_type": "code",
        "colab": {}
      },
      "source": [
        "from imblearn.over_sampling import SMOTE\n",
        "sm = SMOTE(random_state=100,ratio=1,k_neighbors=12,m_neighbors=17)\n",
        "X_train_res, y_train_res = sm.fit_sample(X_train, y_train)"
      ],
      "execution_count": 0,
      "outputs": []
    },
    {
      "cell_type": "code",
      "metadata": {
        "id": "eIPjjOm1WTaO",
        "colab_type": "code",
        "outputId": "df87efbd-d0ec-4bea-b417-0e2bbd6e1380",
        "colab": {
          "base_uri": "https://localhost:8080/",
          "height": 68
        }
      },
      "source": [
        "pd.value_counts(y_train_res)"
      ],
      "execution_count": 45,
      "outputs": [
        {
          "output_type": "execute_result",
          "data": {
            "text/plain": [
              "1    290\n",
              "0    290\n",
              "dtype: int64"
            ]
          },
          "metadata": {
            "tags": []
          },
          "execution_count": 45
        }
      ]
    },
    {
      "cell_type": "code",
      "metadata": {
        "id": "iEHKklDRie3T",
        "colab_type": "code",
        "colab": {}
      },
      "source": [
        "from sklearn.preprocessing import StandardScaler\n",
        "sc_X = StandardScaler()\n",
        "X_train = sc_X.fit_transform(X_train_res)\n",
        "X_test = sc_X.transform(X_test)"
      ],
      "execution_count": 0,
      "outputs": []
    },
    {
      "cell_type": "code",
      "metadata": {
        "id": "YkC63oB2ijM4",
        "colab_type": "code",
        "outputId": "361af323-20e2-428b-87cb-10782963deea",
        "colab": {
          "base_uri": "https://localhost:8080/",
          "height": 68
        }
      },
      "source": [
        "from sklearn.linear_model import LogisticRegression\n",
        "logmodel = LogisticRegression() \n",
        "logmodel.fit(X_train,y_train_res)\n",
        "logpred = logmodel.predict(X_test)\n",
        "\n",
        "\n",
        "print(confusion_matrix(y_test, logpred))\n",
        "print(round(accuracy_score(y_test, logpred),2)*100)"
      ],
      "execution_count": 47,
      "outputs": [
        {
          "output_type": "stream",
          "text": [
            "[[67  0]\n",
            " [ 2 45]]\n",
            "98.0\n"
          ],
          "name": "stdout"
        }
      ]
    },
    {
      "cell_type": "code",
      "metadata": {
        "id": "6nZW4FIumOK8",
        "colab_type": "code",
        "colab": {}
      },
      "source": [
        "from sklearn.metrics import classification_report"
      ],
      "execution_count": 0,
      "outputs": []
    },
    {
      "cell_type": "code",
      "metadata": {
        "id": "yM3O8MjunDQP",
        "colab_type": "code",
        "outputId": "8ab0448d-2b09-4934-a7bb-ed18234dde40",
        "colab": {
          "base_uri": "https://localhost:8080/",
          "height": 68
        }
      },
      "source": [
        "print('Confusion Matrix\\n', confusion_matrix(y_test, logpred))"
      ],
      "execution_count": 49,
      "outputs": [
        {
          "output_type": "stream",
          "text": [
            "Confusion Matrix\n",
            " [[67  0]\n",
            " [ 2 45]]\n"
          ],
          "name": "stdout"
        }
      ]
    },
    {
      "cell_type": "code",
      "metadata": {
        "id": "xRo9LiVenKkM",
        "colab_type": "code",
        "outputId": "b6802b8c-257d-4278-ae03-8405760f1918",
        "colab": {
          "base_uri": "https://localhost:8080/",
          "height": 187
        }
      },
      "source": [
        "print('Reports\\n',classification_report(y_test, logpred))"
      ],
      "execution_count": 50,
      "outputs": [
        {
          "output_type": "stream",
          "text": [
            "Reports\n",
            "               precision    recall  f1-score   support\n",
            "\n",
            "           0       0.97      1.00      0.99        67\n",
            "           1       1.00      0.96      0.98        47\n",
            "\n",
            "    accuracy                           0.98       114\n",
            "   macro avg       0.99      0.98      0.98       114\n",
            "weighted avg       0.98      0.98      0.98       114\n",
            "\n"
          ],
          "name": "stdout"
        }
      ]
    },
    {
      "cell_type": "code",
      "metadata": {
        "id": "zquczovuuts9",
        "colab_type": "code",
        "outputId": "68469ed8-a4ec-4932-b0f2-a184607b5331",
        "colab": {
          "base_uri": "https://localhost:8080/",
          "height": 68
        }
      },
      "source": [
        "from sklearn.naive_bayes import BernoulliNB\n",
        "bernoullinb= BernoulliNB()\n",
        "bernoullinb.fit(X_train, y_train_res)\n",
        "bernoullinbpred = bernoullinb.predict(X_test)\n",
        "probs = bernoullinb.predict(X_test)\n",
        "\n",
        "print(confusion_matrix(y_test, bernoullinbpred ))\n",
        "print(round(accuracy_score(y_test, bernoullinbpred),2)*100)"
      ],
      "execution_count": 51,
      "outputs": [
        {
          "output_type": "stream",
          "text": [
            "[[64  3]\n",
            " [ 6 41]]\n",
            "92.0\n"
          ],
          "name": "stdout"
        }
      ]
    },
    {
      "cell_type": "code",
      "metadata": {
        "id": "VZneTgLpuyS6",
        "colab_type": "code",
        "outputId": "ae982c5c-4d3e-458f-ec02-faf87ca84707",
        "colab": {
          "base_uri": "https://localhost:8080/",
          "height": 187
        }
      },
      "source": [
        "print('Reports\\n',classification_report(y_test, bernoullinbpred))"
      ],
      "execution_count": 52,
      "outputs": [
        {
          "output_type": "stream",
          "text": [
            "Reports\n",
            "               precision    recall  f1-score   support\n",
            "\n",
            "           0       0.91      0.96      0.93        67\n",
            "           1       0.93      0.87      0.90        47\n",
            "\n",
            "    accuracy                           0.92       114\n",
            "   macro avg       0.92      0.91      0.92       114\n",
            "weighted avg       0.92      0.92      0.92       114\n",
            "\n"
          ],
          "name": "stdout"
        }
      ]
    },
    {
      "cell_type": "code",
      "metadata": {
        "id": "A20fFBcUxBpM",
        "colab_type": "code",
        "outputId": "a115fc8e-462a-407d-d4db-2de013361b8f",
        "colab": {
          "base_uri": "https://localhost:8080/",
          "height": 68
        }
      },
      "source": [
        "from sklearn.tree import DecisionTreeClassifier\n",
        "dtree = DecisionTreeClassifier(criterion='gini')\n",
        "dtree.fit(X_train, y_train_res)\n",
        "dtreepred = dtree.predict(X_test)\n",
        "\n",
        "print(confusion_matrix(y_test, dtreepred))\n",
        "print(round(accuracy_score(y_test, dtreepred),2)*100)"
      ],
      "execution_count": 53,
      "outputs": [
        {
          "output_type": "stream",
          "text": [
            "[[62  5]\n",
            " [ 6 41]]\n",
            "90.0\n"
          ],
          "name": "stdout"
        }
      ]
    },
    {
      "cell_type": "code",
      "metadata": {
        "id": "vSbQhEqEyH3O",
        "colab_type": "code",
        "outputId": "fc250914-06b8-47e6-a1d8-906bcd7545e5",
        "colab": {
          "base_uri": "https://localhost:8080/",
          "height": 187
        }
      },
      "source": [
        "print('Reports\\n',classification_report(y_test, dtreepred))"
      ],
      "execution_count": 54,
      "outputs": [
        {
          "output_type": "stream",
          "text": [
            "Reports\n",
            "               precision    recall  f1-score   support\n",
            "\n",
            "           0       0.91      0.93      0.92        67\n",
            "           1       0.89      0.87      0.88        47\n",
            "\n",
            "    accuracy                           0.90       114\n",
            "   macro avg       0.90      0.90      0.90       114\n",
            "weighted avg       0.90      0.90      0.90       114\n",
            "\n"
          ],
          "name": "stdout"
        }
      ]
    },
    {
      "cell_type": "code",
      "metadata": {
        "id": "RvjKDOlMCTXS",
        "colab_type": "code",
        "outputId": "8b952bac-9d49-4dde-e11d-029601fc5465",
        "colab": {
          "base_uri": "https://localhost:8080/",
          "height": 68
        }
      },
      "source": [
        "from sklearn.svm import SVC\n",
        "svc= SVC()\n",
        "svc.fit(X_train, y_train_res)\n",
        "svcpred = svc.predict(X_test)\n",
        "print(confusion_matrix(y_test, svcpred))\n",
        "print(round(accuracy_score(y_test, svcpred),2)*100)"
      ],
      "execution_count": 58,
      "outputs": [
        {
          "output_type": "stream",
          "text": [
            "[[67  0]\n",
            " [ 2 45]]\n",
            "98.0\n"
          ],
          "name": "stdout"
        }
      ]
    },
    {
      "cell_type": "code",
      "metadata": {
        "id": "96dRfT7B19HS",
        "colab_type": "code",
        "outputId": "f72bf4a6-f633-49e4-f41c-f7177ea6a52d",
        "colab": {
          "base_uri": "https://localhost:8080/",
          "height": 187
        }
      },
      "source": [
        "print('Reports\\n',classification_report(y_test, svcpred))"
      ],
      "execution_count": 59,
      "outputs": [
        {
          "output_type": "stream",
          "text": [
            "Reports\n",
            "               precision    recall  f1-score   support\n",
            "\n",
            "           0       0.97      1.00      0.99        67\n",
            "           1       1.00      0.96      0.98        47\n",
            "\n",
            "    accuracy                           0.98       114\n",
            "   macro avg       0.99      0.98      0.98       114\n",
            "weighted avg       0.98      0.98      0.98       114\n",
            "\n"
          ],
          "name": "stdout"
        }
      ]
    }
  ]
}